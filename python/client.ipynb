{
 "cells": [
  {
   "cell_type": "markdown",
   "id": "9d241571",
   "metadata": {},
   "source": [
    "## Arrow Client"
   ]
  },
  {
   "cell_type": "code",
   "execution_count": 1,
   "id": "8b5ec566",
   "metadata": {},
   "outputs": [],
   "source": [
    "import time\n",
    "import requests\n",
    "import pyarrow as pa"
   ]
  },
  {
   "cell_type": "code",
   "execution_count": 5,
   "id": "ee7c75d3",
   "metadata": {},
   "outputs": [],
   "source": [
    "def read_arrow_stream_from_url_batches(url: str) -> pa.Table:\n",
    "    \"\"\"\n",
    "    Reads an Arrow stream from a URL and returns it as a pyarrow Table.\n",
    "    \"\"\"\n",
    "    with requests.get(url, stream=True) as response:\n",
    "        response.raise_for_status()\n",
    "\n",
    "        # Read raw binary stream in chunks\n",
    "        chunks = bytearray()\n",
    "        for chunk in response.iter_content(\n",
    "            chunk_size=130058908\n",
    "        ):  # chunk_size is based on the size of a single Arrow RecordBatch\n",
    "            if chunk:\n",
    "                chunks.extend(chunk)\n",
    "\n",
    "        # Use pyarrow to load from bytes\n",
    "        buffer = memoryview(chunks)\n",
    "        reader = pa.ipc.open_stream(buffer)\n",
    "        return reader.read_all()"
   ]
  },
  {
   "cell_type": "code",
   "execution_count": 115,
   "id": "6505d567",
   "metadata": {},
   "outputs": [
    {
     "name": "stdout",
     "output_type": "stream",
     "text": [
      "Time taken to read 20000000 from Arrow stream: 10.87 seconds\n"
     ]
    },
    {
     "data": {
      "text/plain": [
       "pyarrow.Table\n",
       "l_orderkey: int64\n",
       "l_partkey: int64\n",
       "l_suppkey: int64\n",
       "l_linenumber: int64\n",
       "l_quantity: decimal128(15, 2)\n",
       "l_extendedprice: decimal128(15, 2)\n",
       "l_discount: decimal128(15, 2)\n",
       "l_tax: decimal128(15, 2)\n",
       "l_returnflag: string\n",
       "l_linestatus: string\n",
       "l_shipdate: date32[day]\n",
       "l_commitdate: date32[day]\n",
       "l_receiptdate: date32[day]\n",
       "l_shipinstruct: string\n",
       "l_shipmode: string\n",
       "l_comment: string\n",
       "----\n",
       "l_orderkey: [[1,1,1,1,1,...,999939,999939,999939,999939,999939],[999939,999939,999940,999940,999940,...,1999524,1999524,1999524,1999525,1999525],...,[18003427,18003428,18003428,18003429,18003429,...,19004199,19004199,19004199,19004224,19004224],[19004225,19004225,19004225,19004225,19004225,...,20005348,20005348,20005349,20005349,20005349]]\n",
       "l_partkey: [[1551894,673091,636998,21315,240267,...,34552,711982,272928,1099732,1185143],[683313,439625,766792,1461447,528198,...,1637358,1060259,1770665,1557031,1003407],...,[208066,1193316,58728,951117,1409583,...,1449090,840729,121354,1237352,160542],[328310,1905402,89208,1306560,1343043,...,781235,200109,210533,428032,1933258]]\n",
       "l_suppkey: [[76910,73092,36999,46316,15274,...,59553,61997,22933,49753,85144],[58332,14638,41814,86462,53204,...,87391,85270,95683,7062,78438],...,[83073,18328,58729,26145,34598,...,24133,65738,96358,12389,35546],[78317,55441,39209,81600,18083,...,81236,110,35536,28033,33259]]\n",
       "l_linenumber: [[1,2,3,4,5,...,1,2,3,4,5],[6,7,1,2,3,...,5,6,7,1,2],...,[2,1,2,1,2,...,2,3,4,1,2],[1,2,3,4,5,...,3,4,1,2,3]]\n",
       "l_quantity: [[17.00,36.00,8.00,28.00,24.00,...,20.00,10.00,5.00,18.00,2.00],[27.00,46.00,3.00,5.00,5.00,...,44.00,12.00,43.00,37.00,19.00],...,[10.00,49.00,4.00,11.00,27.00,...,29.00,34.00,30.00,3.00,6.00],[15.00,12.00,8.00,41.00,4.00,...,17.00,15.00,37.00,48.00,37.00]]\n",
       "l_extendedprice: [[33078.94,38306.16,15479.68,34616.68,28974.00,...,29731.00,19939.50,9504.55,31170.24,2456.18],[34999.56,71971.60,5576.28,7041.85,6130.85,...,56991.88,14630.40,74629.94,40254.52,24896.65],...,[9740.50,69053.74,6746.88,12848.77,40297.77,...,30131.58,56769.12,41260.50,3867.87,9615.24],[20074.50,16887.72,9577.60,64226.50,4343.92,...,22375.40,15136.35,53410.24,46080.48,47772.92]]\n",
       "l_discount: [[0.04,0.09,0.10,0.09,0.10,...,0.09,0.00,0.02,0.07,0.01],[0.10,0.00,0.00,0.03,0.08,...,0.05,0.03,0.01,0.08,0.01],...,[0.00,0.08,0.04,0.00,0.06,...,0.08,0.07,0.09,0.06,0.05],[0.02,0.05,0.01,0.04,0.00,...,0.04,0.03,0.00,0.00,0.08]]\n",
       "l_tax: [[0.02,0.06,0.02,0.06,0.04,...,0.08,0.06,0.05,0.01,0.06],[0.08,0.04,0.06,0.01,0.06,...,0.07,0.07,0.08,0.02,0.00],...,[0.02,0.08,0.08,0.08,0.08,...,0.00,0.08,0.08,0.06,0.07],[0.05,0.06,0.01,0.08,0.03,...,0.07,0.07,0.05,0.03,0.00]]\n",
       "l_returnflag: [[\"N\",\"N\",\"N\",\"N\",\"N\",...,\"N\",\"N\",\"N\",\"N\",\"N\"],[\"N\",\"N\",\"R\",\"A\",\"R\",...,\"N\",\"N\",\"N\",\"N\",\"N\"],...,[\"R\",\"A\",\"R\",\"N\",\"N\",...,\"N\",\"N\",\"N\",\"R\",\"A\"],[\"R\",\"R\",\"A\",\"A\",\"A\",...,\"N\",\"N\",\"N\",\"N\",\"N\"]]\n",
       "l_linestatus: [[\"O\",\"O\",\"O\",\"O\",\"O\",...,\"O\",\"O\",\"O\",\"O\",\"O\"],[\"O\",\"O\",\"F\",\"F\",\"F\",...,\"O\",\"O\",\"O\",\"O\",\"O\"],...,[\"F\",\"F\",\"F\",\"O\",\"O\",...,\"O\",\"O\",\"O\",\"F\",\"F\"],[\"F\",\"F\",\"F\",\"F\",\"F\",...,\"O\",\"O\",\"O\",\"O\",\"O\"]]\n",
       "..."
      ]
     },
     "execution_count": 115,
     "metadata": {},
     "output_type": "execute_result"
    }
   ],
   "source": [
    "nrows = 20_000_000\n",
    "t1 = time.time()\n",
    "arrow_table = read_arrow_stream_from_url_batches(\n",
    "    f\"http://localhost:8000/rows/arrow/lineitem?nrows={nrows}\"\n",
    ")\n",
    "t2 = time.time()\n",
    "print(f\"Time taken to read {nrows} from Arrow stream: {t2 - t1:.2f} seconds\")\n",
    "arrow_table"
   ]
  },
  {
   "cell_type": "code",
   "execution_count": 113,
   "id": "25e7c8d0",
   "metadata": {},
   "outputs": [
    {
     "data": {
      "text/plain": [
       "(16, 15000000, 2591777478)"
      ]
     },
     "execution_count": 113,
     "metadata": {},
     "output_type": "execute_result"
    }
   ],
   "source": [
    "arrow_table.num_columns, arrow_table.num_rows, arrow_table.nbytes"
   ]
  },
  {
   "cell_type": "markdown",
   "id": "9e25b067",
   "metadata": {},
   "source": [
    "## JSON Client"
   ]
  },
  {
   "cell_type": "code",
   "execution_count": 2,
   "id": "9c8fe14e",
   "metadata": {},
   "outputs": [],
   "source": [
    "def json_request_handler(url: str) -> dict:\n",
    "    response = requests.get(url)\n",
    "    response.raise_for_status()\n",
    "    # response.json() already parses de JSON response into a Python dictionary\n",
    "    return response.json()"
   ]
  },
  {
   "cell_type": "code",
   "execution_count": 85,
   "id": "10926228",
   "metadata": {},
   "outputs": [
    {
     "name": "stdout",
     "output_type": "stream",
     "text": [
      "Time taken to process 1000000 with JSON: 10.46 seconds\n"
     ]
    }
   ],
   "source": [
    "nrows = 1_000_000\n",
    "t1 = time.time()\n",
    "data = json_request_handler(f\"http://localhost:8000/rows/json/orders?nrows={nrows}\")\n",
    "t2 = time.time()\n",
    "print(f\"Time taken to process {nrows} with JSON: {t2 - t1:.2f} seconds\")"
   ]
  },
  {
   "cell_type": "code",
   "execution_count": 9,
   "id": "2dc58d3f",
   "metadata": {},
   "outputs": [
    {
     "data": {
      "text/plain": [
       "1000000"
      ]
     },
     "execution_count": 9,
     "metadata": {},
     "output_type": "execute_result"
    }
   ],
   "source": [
    "len(data[\"o_orderkey\"])"
   ]
  },
  {
   "cell_type": "markdown",
   "id": "c469b027",
   "metadata": {},
   "source": [
    "## JSON vs Arrow with Lineitem data"
   ]
  },
  {
   "cell_type": "code",
   "execution_count": 3,
   "id": "b3f64db1",
   "metadata": {},
   "outputs": [],
   "source": [
    "def benchmark():\n",
    "    benchmark_data = []\n",
    "    for nrows in [1_000, 10_000, 100_000, 1_000_000, 10_000_000]:\n",
    "        t1 = time.time()\n",
    "        read_arrow_stream_from_url_batches(\n",
    "            f\"http://localhost:8000/rows/arrow/lineitem?nrows={nrows}\"\n",
    "        )\n",
    "        t2 = time.time()\n",
    "        time_arrow = t2 - t1\n",
    "        print(f\"Time taken to read {nrows} from Arrow stream: {t2 - t1:.2f} seconds\")\n",
    "\n",
    "        t1 = time.time()\n",
    "        json_request_handler(f\"http://localhost:8000/rows/json/lineitem?nrows={nrows}\")\n",
    "        t2 = time.time()\n",
    "        time_json = t2 - t1\n",
    "        print(f\"Time taken to read {nrows} with JSON: {t2 - t1:.2f} seconds\")\n",
    "\n",
    "        benchmark_data.append(\n",
    "            {\"nrows\": nrows, \"time_arrow\": time_arrow, \"time_json\": time_json}\n",
    "        )\n",
    "    return benchmark_data"
   ]
  },
  {
   "cell_type": "code",
   "execution_count": 6,
   "id": "d5605b52",
   "metadata": {},
   "outputs": [
    {
     "name": "stdout",
     "output_type": "stream",
     "text": [
      "Time taken to read 1000 from Arrow stream: 0.05 seconds\n",
      "Time taken to read 1000 with JSON: 0.04 seconds\n",
      "Time taken to read 10000 from Arrow stream: 0.04 seconds\n",
      "Time taken to read 10000 with JSON: 0.12 seconds\n",
      "Time taken to read 100000 from Arrow stream: 0.14 seconds\n",
      "Time taken to read 100000 with JSON: 1.01 seconds\n",
      "Time taken to read 1000000 from Arrow stream: 1.18 seconds\n",
      "Time taken to read 1000000 with JSON: 10.21 seconds\n",
      "Time taken to read 10000000 from Arrow stream: 5.22 seconds\n",
      "Time taken to read 10000000 with JSON: 104.76 seconds\n"
     ]
    }
   ],
   "source": [
    "data = benchmark()"
   ]
  },
  {
   "cell_type": "code",
   "execution_count": null,
   "id": "9e50151f",
   "metadata": {},
   "outputs": [
    {
     "data": {
      "application/vnd.plotly.v1+json": {
       "config": {
        "plotlyServerURL": "https://plot.ly"
       },
       "data": [
        {
         "hovertemplate": "variable=time_arrow<br>log(nrows)=%{x}<br>Time (seconds)=%{y}<extra></extra>",
         "legendgroup": "time_arrow",
         "line": {
          "color": "#636efa",
          "dash": "solid"
         },
         "marker": {
          "symbol": "circle"
         },
         "mode": "lines",
         "name": "time_arrow",
         "orientation": "v",
         "showlegend": true,
         "type": "scatter",
         "x": {
          "bdata": "6AMAABAnAACghgEAQEIPAICWmAA=",
          "dtype": "i4"
         },
         "xaxis": "x",
         "y": {
          "bdata": "AAAAAHglqj8AAAAAENKiPwAAAABCzsE/AAAAQMbj8j8AAACQI+QUQA==",
          "dtype": "f8"
         },
         "yaxis": "y"
        },
        {
         "hovertemplate": "variable=time_json<br>log(nrows)=%{x}<br>Time (seconds)=%{y}<extra></extra>",
         "legendgroup": "time_json",
         "line": {
          "color": "#EF553B",
          "dash": "solid"
         },
         "marker": {
          "symbol": "circle"
         },
         "mode": "lines",
         "name": "time_json",
         "orientation": "v",
         "showlegend": true,
         "type": "scatter",
         "x": {
          "bdata": "6AMAABAnAACghgEAQEIPAICWmAA=",
          "dtype": "i4"
         },
         "xaxis": "x",
         "y": {
          "bdata": "AAAAACABoz8AAAAA7HW/PwAAAIDULfA/AAAA2L9tJEAAAAD53TBaQA==",
          "dtype": "f8"
         },
         "yaxis": "y"
        }
       ],
       "layout": {
        "legend": {
         "title": {
          "text": "variable"
         },
         "tracegroupgap": 0
        },
        "template": {
         "data": {
          "bar": [
           {
            "error_x": {
             "color": "#2a3f5f"
            },
            "error_y": {
             "color": "#2a3f5f"
            },
            "marker": {
             "line": {
              "color": "#E5ECF6",
              "width": 0.5
             },
             "pattern": {
              "fillmode": "overlay",
              "size": 10,
              "solidity": 0.2
             }
            },
            "type": "bar"
           }
          ],
          "barpolar": [
           {
            "marker": {
             "line": {
              "color": "#E5ECF6",
              "width": 0.5
             },
             "pattern": {
              "fillmode": "overlay",
              "size": 10,
              "solidity": 0.2
             }
            },
            "type": "barpolar"
           }
          ],
          "carpet": [
           {
            "aaxis": {
             "endlinecolor": "#2a3f5f",
             "gridcolor": "white",
             "linecolor": "white",
             "minorgridcolor": "white",
             "startlinecolor": "#2a3f5f"
            },
            "baxis": {
             "endlinecolor": "#2a3f5f",
             "gridcolor": "white",
             "linecolor": "white",
             "minorgridcolor": "white",
             "startlinecolor": "#2a3f5f"
            },
            "type": "carpet"
           }
          ],
          "choropleth": [
           {
            "colorbar": {
             "outlinewidth": 0,
             "ticks": ""
            },
            "type": "choropleth"
           }
          ],
          "contour": [
           {
            "colorbar": {
             "outlinewidth": 0,
             "ticks": ""
            },
            "colorscale": [
             [
              0,
              "#0d0887"
             ],
             [
              0.1111111111111111,
              "#46039f"
             ],
             [
              0.2222222222222222,
              "#7201a8"
             ],
             [
              0.3333333333333333,
              "#9c179e"
             ],
             [
              0.4444444444444444,
              "#bd3786"
             ],
             [
              0.5555555555555556,
              "#d8576b"
             ],
             [
              0.6666666666666666,
              "#ed7953"
             ],
             [
              0.7777777777777778,
              "#fb9f3a"
             ],
             [
              0.8888888888888888,
              "#fdca26"
             ],
             [
              1,
              "#f0f921"
             ]
            ],
            "type": "contour"
           }
          ],
          "contourcarpet": [
           {
            "colorbar": {
             "outlinewidth": 0,
             "ticks": ""
            },
            "type": "contourcarpet"
           }
          ],
          "heatmap": [
           {
            "colorbar": {
             "outlinewidth": 0,
             "ticks": ""
            },
            "colorscale": [
             [
              0,
              "#0d0887"
             ],
             [
              0.1111111111111111,
              "#46039f"
             ],
             [
              0.2222222222222222,
              "#7201a8"
             ],
             [
              0.3333333333333333,
              "#9c179e"
             ],
             [
              0.4444444444444444,
              "#bd3786"
             ],
             [
              0.5555555555555556,
              "#d8576b"
             ],
             [
              0.6666666666666666,
              "#ed7953"
             ],
             [
              0.7777777777777778,
              "#fb9f3a"
             ],
             [
              0.8888888888888888,
              "#fdca26"
             ],
             [
              1,
              "#f0f921"
             ]
            ],
            "type": "heatmap"
           }
          ],
          "histogram": [
           {
            "marker": {
             "pattern": {
              "fillmode": "overlay",
              "size": 10,
              "solidity": 0.2
             }
            },
            "type": "histogram"
           }
          ],
          "histogram2d": [
           {
            "colorbar": {
             "outlinewidth": 0,
             "ticks": ""
            },
            "colorscale": [
             [
              0,
              "#0d0887"
             ],
             [
              0.1111111111111111,
              "#46039f"
             ],
             [
              0.2222222222222222,
              "#7201a8"
             ],
             [
              0.3333333333333333,
              "#9c179e"
             ],
             [
              0.4444444444444444,
              "#bd3786"
             ],
             [
              0.5555555555555556,
              "#d8576b"
             ],
             [
              0.6666666666666666,
              "#ed7953"
             ],
             [
              0.7777777777777778,
              "#fb9f3a"
             ],
             [
              0.8888888888888888,
              "#fdca26"
             ],
             [
              1,
              "#f0f921"
             ]
            ],
            "type": "histogram2d"
           }
          ],
          "histogram2dcontour": [
           {
            "colorbar": {
             "outlinewidth": 0,
             "ticks": ""
            },
            "colorscale": [
             [
              0,
              "#0d0887"
             ],
             [
              0.1111111111111111,
              "#46039f"
             ],
             [
              0.2222222222222222,
              "#7201a8"
             ],
             [
              0.3333333333333333,
              "#9c179e"
             ],
             [
              0.4444444444444444,
              "#bd3786"
             ],
             [
              0.5555555555555556,
              "#d8576b"
             ],
             [
              0.6666666666666666,
              "#ed7953"
             ],
             [
              0.7777777777777778,
              "#fb9f3a"
             ],
             [
              0.8888888888888888,
              "#fdca26"
             ],
             [
              1,
              "#f0f921"
             ]
            ],
            "type": "histogram2dcontour"
           }
          ],
          "mesh3d": [
           {
            "colorbar": {
             "outlinewidth": 0,
             "ticks": ""
            },
            "type": "mesh3d"
           }
          ],
          "parcoords": [
           {
            "line": {
             "colorbar": {
              "outlinewidth": 0,
              "ticks": ""
             }
            },
            "type": "parcoords"
           }
          ],
          "pie": [
           {
            "automargin": true,
            "type": "pie"
           }
          ],
          "scatter": [
           {
            "fillpattern": {
             "fillmode": "overlay",
             "size": 10,
             "solidity": 0.2
            },
            "type": "scatter"
           }
          ],
          "scatter3d": [
           {
            "line": {
             "colorbar": {
              "outlinewidth": 0,
              "ticks": ""
             }
            },
            "marker": {
             "colorbar": {
              "outlinewidth": 0,
              "ticks": ""
             }
            },
            "type": "scatter3d"
           }
          ],
          "scattercarpet": [
           {
            "marker": {
             "colorbar": {
              "outlinewidth": 0,
              "ticks": ""
             }
            },
            "type": "scattercarpet"
           }
          ],
          "scattergeo": [
           {
            "marker": {
             "colorbar": {
              "outlinewidth": 0,
              "ticks": ""
             }
            },
            "type": "scattergeo"
           }
          ],
          "scattergl": [
           {
            "marker": {
             "colorbar": {
              "outlinewidth": 0,
              "ticks": ""
             }
            },
            "type": "scattergl"
           }
          ],
          "scattermap": [
           {
            "marker": {
             "colorbar": {
              "outlinewidth": 0,
              "ticks": ""
             }
            },
            "type": "scattermap"
           }
          ],
          "scattermapbox": [
           {
            "marker": {
             "colorbar": {
              "outlinewidth": 0,
              "ticks": ""
             }
            },
            "type": "scattermapbox"
           }
          ],
          "scatterpolar": [
           {
            "marker": {
             "colorbar": {
              "outlinewidth": 0,
              "ticks": ""
             }
            },
            "type": "scatterpolar"
           }
          ],
          "scatterpolargl": [
           {
            "marker": {
             "colorbar": {
              "outlinewidth": 0,
              "ticks": ""
             }
            },
            "type": "scatterpolargl"
           }
          ],
          "scatterternary": [
           {
            "marker": {
             "colorbar": {
              "outlinewidth": 0,
              "ticks": ""
             }
            },
            "type": "scatterternary"
           }
          ],
          "surface": [
           {
            "colorbar": {
             "outlinewidth": 0,
             "ticks": ""
            },
            "colorscale": [
             [
              0,
              "#0d0887"
             ],
             [
              0.1111111111111111,
              "#46039f"
             ],
             [
              0.2222222222222222,
              "#7201a8"
             ],
             [
              0.3333333333333333,
              "#9c179e"
             ],
             [
              0.4444444444444444,
              "#bd3786"
             ],
             [
              0.5555555555555556,
              "#d8576b"
             ],
             [
              0.6666666666666666,
              "#ed7953"
             ],
             [
              0.7777777777777778,
              "#fb9f3a"
             ],
             [
              0.8888888888888888,
              "#fdca26"
             ],
             [
              1,
              "#f0f921"
             ]
            ],
            "type": "surface"
           }
          ],
          "table": [
           {
            "cells": {
             "fill": {
              "color": "#EBF0F8"
             },
             "line": {
              "color": "white"
             }
            },
            "header": {
             "fill": {
              "color": "#C8D4E3"
             },
             "line": {
              "color": "white"
             }
            },
            "type": "table"
           }
          ]
         },
         "layout": {
          "annotationdefaults": {
           "arrowcolor": "#2a3f5f",
           "arrowhead": 0,
           "arrowwidth": 1
          },
          "autotypenumbers": "strict",
          "coloraxis": {
           "colorbar": {
            "outlinewidth": 0,
            "ticks": ""
           }
          },
          "colorscale": {
           "diverging": [
            [
             0,
             "#8e0152"
            ],
            [
             0.1,
             "#c51b7d"
            ],
            [
             0.2,
             "#de77ae"
            ],
            [
             0.3,
             "#f1b6da"
            ],
            [
             0.4,
             "#fde0ef"
            ],
            [
             0.5,
             "#f7f7f7"
            ],
            [
             0.6,
             "#e6f5d0"
            ],
            [
             0.7,
             "#b8e186"
            ],
            [
             0.8,
             "#7fbc41"
            ],
            [
             0.9,
             "#4d9221"
            ],
            [
             1,
             "#276419"
            ]
           ],
           "sequential": [
            [
             0,
             "#0d0887"
            ],
            [
             0.1111111111111111,
             "#46039f"
            ],
            [
             0.2222222222222222,
             "#7201a8"
            ],
            [
             0.3333333333333333,
             "#9c179e"
            ],
            [
             0.4444444444444444,
             "#bd3786"
            ],
            [
             0.5555555555555556,
             "#d8576b"
            ],
            [
             0.6666666666666666,
             "#ed7953"
            ],
            [
             0.7777777777777778,
             "#fb9f3a"
            ],
            [
             0.8888888888888888,
             "#fdca26"
            ],
            [
             1,
             "#f0f921"
            ]
           ],
           "sequentialminus": [
            [
             0,
             "#0d0887"
            ],
            [
             0.1111111111111111,
             "#46039f"
            ],
            [
             0.2222222222222222,
             "#7201a8"
            ],
            [
             0.3333333333333333,
             "#9c179e"
            ],
            [
             0.4444444444444444,
             "#bd3786"
            ],
            [
             0.5555555555555556,
             "#d8576b"
            ],
            [
             0.6666666666666666,
             "#ed7953"
            ],
            [
             0.7777777777777778,
             "#fb9f3a"
            ],
            [
             0.8888888888888888,
             "#fdca26"
            ],
            [
             1,
             "#f0f921"
            ]
           ]
          },
          "colorway": [
           "#636efa",
           "#EF553B",
           "#00cc96",
           "#ab63fa",
           "#FFA15A",
           "#19d3f3",
           "#FF6692",
           "#B6E880",
           "#FF97FF",
           "#FECB52"
          ],
          "font": {
           "color": "#2a3f5f"
          },
          "geo": {
           "bgcolor": "white",
           "lakecolor": "white",
           "landcolor": "#E5ECF6",
           "showlakes": true,
           "showland": true,
           "subunitcolor": "white"
          },
          "hoverlabel": {
           "align": "left"
          },
          "hovermode": "closest",
          "mapbox": {
           "style": "light"
          },
          "paper_bgcolor": "white",
          "plot_bgcolor": "#E5ECF6",
          "polar": {
           "angularaxis": {
            "gridcolor": "white",
            "linecolor": "white",
            "ticks": ""
           },
           "bgcolor": "#E5ECF6",
           "radialaxis": {
            "gridcolor": "white",
            "linecolor": "white",
            "ticks": ""
           }
          },
          "scene": {
           "xaxis": {
            "backgroundcolor": "#E5ECF6",
            "gridcolor": "white",
            "gridwidth": 2,
            "linecolor": "white",
            "showbackground": true,
            "ticks": "",
            "zerolinecolor": "white"
           },
           "yaxis": {
            "backgroundcolor": "#E5ECF6",
            "gridcolor": "white",
            "gridwidth": 2,
            "linecolor": "white",
            "showbackground": true,
            "ticks": "",
            "zerolinecolor": "white"
           },
           "zaxis": {
            "backgroundcolor": "#E5ECF6",
            "gridcolor": "white",
            "gridwidth": 2,
            "linecolor": "white",
            "showbackground": true,
            "ticks": "",
            "zerolinecolor": "white"
           }
          },
          "shapedefaults": {
           "line": {
            "color": "#2a3f5f"
           }
          },
          "ternary": {
           "aaxis": {
            "gridcolor": "white",
            "linecolor": "white",
            "ticks": ""
           },
           "baxis": {
            "gridcolor": "white",
            "linecolor": "white",
            "ticks": ""
           },
           "bgcolor": "#E5ECF6",
           "caxis": {
            "gridcolor": "white",
            "linecolor": "white",
            "ticks": ""
           }
          },
          "title": {
           "x": 0.05
          },
          "xaxis": {
           "automargin": true,
           "gridcolor": "white",
           "linecolor": "white",
           "ticks": "",
           "title": {
            "standoff": 15
           },
           "zerolinecolor": "white",
           "zerolinewidth": 2
          },
          "yaxis": {
           "automargin": true,
           "gridcolor": "white",
           "linecolor": "white",
           "ticks": "",
           "title": {
            "standoff": 15
           },
           "zerolinecolor": "white",
           "zerolinewidth": 2
          }
         }
        },
        "title": {
         "text": "Arrow vs JSON Performance Benchmark"
        },
        "xaxis": {
         "anchor": "y",
         "domain": [
          0,
          1
         ],
         "title": {
          "text": "log(nrows)"
         },
         "type": "log"
        },
        "yaxis": {
         "anchor": "x",
         "domain": [
          0,
          1
         ],
         "title": {
          "text": "Time (seconds)"
         }
        }
       }
      }
     },
     "metadata": {},
     "output_type": "display_data"
    }
   ],
   "source": [
    "import pandas as pd\n",
    "import plotly.express as px\n",
    "\n",
    "df = pd.DataFrame(data)\n",
    "fig = px.line(\n",
    "    df,\n",
    "    x=\"nrows\",\n",
    "    y=[\"time_arrow\", \"time_json\"],\n",
    "    log_x=True,\n",
    "    labels={\"nrows\": \"log(nrows)\", \"value\": \"Time (seconds)\"},\n",
    "    title=\"Arrow vs JSON Performance Benchmark\",\n",
    "    width=400,\n",
    ")\n",
    "fig.show()"
   ]
  }
 ],
 "metadata": {
  "kernelspec": {
   "display_name": "python",
   "language": "python",
   "name": "python3"
  },
  "language_info": {
   "codemirror_mode": {
    "name": "ipython",
    "version": 3
   },
   "file_extension": ".py",
   "mimetype": "text/x-python",
   "name": "python",
   "nbconvert_exporter": "python",
   "pygments_lexer": "ipython3",
   "version": "3.12.9"
  }
 },
 "nbformat": 4,
 "nbformat_minor": 5
}
