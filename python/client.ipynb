{
 "cells": [
  {
   "cell_type": "markdown",
   "id": "9d241571",
   "metadata": {},
   "source": [
    "## Arrow Client"
   ]
  },
  {
   "cell_type": "code",
   "execution_count": 45,
   "id": "8b5ec566",
   "metadata": {},
   "outputs": [],
   "source": [
    "import time\n",
    "import requests\n",
    "import pyarrow as pa"
   ]
  },
  {
   "cell_type": "code",
   "execution_count": 64,
   "id": "ee7c75d3",
   "metadata": {},
   "outputs": [],
   "source": [
    "def read_arrow_stream_from_url_batches(url: str) -> pa.Table:\n",
    "    \"\"\"\n",
    "    Reads an Arrow stream from a URL and returns it as a pyarrow Table.\n",
    "    \"\"\"\n",
    "    with requests.get(url, stream=True) as response:\n",
    "        response.raise_for_status()\n",
    "\n",
    "        # Read raw binary stream in chunks\n",
    "        chunks = bytearray()\n",
    "        for chunk in response.iter_content(\n",
    "            chunk_size=130058908\n",
    "        ):  # chunk_size is based on the size of a single Arrow RecordBatch\n",
    "            if chunk:\n",
    "                chunks.extend(chunk)\n",
    "\n",
    "        # Use pyarrow to load from bytes\n",
    "        buffer = memoryview(chunks)\n",
    "        t1 = time.time()\n",
    "        reader = pa.ipc.open_stream(buffer)\n",
    "        table = reader.read_all()\n",
    "        t2 = time.time()\n",
    "        print(f\"Time taken to deserialize Arrow stream: {t2 - t1:.3f} seconds\")\n",
    "        return table, t2-t1"
   ]
  },
  {
   "cell_type": "code",
   "execution_count": 65,
   "id": "6505d567",
   "metadata": {},
   "outputs": [
    {
     "name": "stdout",
     "output_type": "stream",
     "text": [
      "Time taken to deserialize Arrow stream: 0.002 seconds\n",
      "Time taken to read 1000000 from Arrow stream: 0.968 seconds\n"
     ]
    },
    {
     "data": {
      "text/plain": [
       "pyarrow.Table\n",
       "l_orderkey: int64\n",
       "l_partkey: int64\n",
       "l_suppkey: int64\n",
       "l_linenumber: int64\n",
       "l_quantity: decimal128(15, 2)\n",
       "l_extendedprice: decimal128(15, 2)\n",
       "l_discount: decimal128(15, 2)\n",
       "l_tax: decimal128(15, 2)\n",
       "l_returnflag: string\n",
       "l_linestatus: string\n",
       "l_shipdate: date32[day]\n",
       "l_commitdate: date32[day]\n",
       "l_receiptdate: date32[day]\n",
       "l_shipinstruct: string\n",
       "l_shipmode: string\n",
       "l_comment: string\n",
       "----\n",
       "l_orderkey: [[1,1,1,1,1,...,999939,999939,999939,999939,999939]]\n",
       "l_partkey: [[1551894,673091,636998,21315,240267,...,34552,711982,272928,1099732,1185143]]\n",
       "l_suppkey: [[76910,73092,36999,46316,15274,...,59553,61997,22933,49753,85144]]\n",
       "l_linenumber: [[1,2,3,4,5,...,1,2,3,4,5]]\n",
       "l_quantity: [[17.00,36.00,8.00,28.00,24.00,...,20.00,10.00,5.00,18.00,2.00]]\n",
       "l_extendedprice: [[33078.94,38306.16,15479.68,34616.68,28974.00,...,29731.00,19939.50,9504.55,31170.24,2456.18]]\n",
       "l_discount: [[0.04,0.09,0.10,0.09,0.10,...,0.09,0.00,0.02,0.07,0.01]]\n",
       "l_tax: [[0.02,0.06,0.02,0.06,0.04,...,0.08,0.06,0.05,0.01,0.06]]\n",
       "l_returnflag: [[\"N\",\"N\",\"N\",\"N\",\"N\",...,\"N\",\"N\",\"N\",\"N\",\"N\"]]\n",
       "l_linestatus: [[\"O\",\"O\",\"O\",\"O\",\"O\",...,\"O\",\"O\",\"O\",\"O\",\"O\"]]\n",
       "..."
      ]
     },
     "execution_count": 65,
     "metadata": {},
     "output_type": "execute_result"
    }
   ],
   "source": [
    "nrows = 1_000_000\n",
    "t1 = time.time()\n",
    "arrow_table = read_arrow_stream_from_url_batches(\n",
    "    f\"http://localhost:8000/rows/arrow/lineitem?nrows={nrows}\"\n",
    ")[0]\n",
    "t2 = time.time()\n",
    "print(f\"Time taken to read {nrows} from Arrow stream: {t2 - t1:.3f} seconds\")\n",
    "arrow_table"
   ]
  },
  {
   "cell_type": "code",
   "execution_count": 113,
   "id": "25e7c8d0",
   "metadata": {},
   "outputs": [
    {
     "data": {
      "text/plain": [
       "(16, 15000000, 2591777478)"
      ]
     },
     "execution_count": 113,
     "metadata": {},
     "output_type": "execute_result"
    }
   ],
   "source": [
    "arrow_table.num_columns, arrow_table.num_rows, arrow_table.nbytes"
   ]
  },
  {
   "cell_type": "markdown",
   "id": "9e25b067",
   "metadata": {},
   "source": [
    "## JSON Client"
   ]
  },
  {
   "cell_type": "code",
   "execution_count": 67,
   "id": "9c8fe14e",
   "metadata": {},
   "outputs": [],
   "source": [
    "def json_request_handler(url: str) -> dict:\n",
    "    response = requests.get(url)\n",
    "    response.raise_for_status()\n",
    "    # response.json() already parses de JSON response into a Python dictionary\n",
    "    t1 = time.time()\n",
    "    result_dict = response.json()\n",
    "    t2 = time.time()\n",
    "    print(f\"Time taken to deserialize JSON response: {t2 - t1:.3f} seconds\")\n",
    "    return result_dict, t2-t1"
   ]
  },
  {
   "cell_type": "code",
   "execution_count": 68,
   "id": "10926228",
   "metadata": {},
   "outputs": [
    {
     "name": "stdout",
     "output_type": "stream",
     "text": [
      "Time taken to deserialize JSON response: 1.201 seconds\n",
      "Time taken to process 1000000 with JSON: 5.458 seconds\n"
     ]
    }
   ],
   "source": [
    "nrows = 1_000_000\n",
    "t1 = time.time()\n",
    "data = json_request_handler(f\"http://localhost:8000/rows/json/orders?nrows={nrows}\")[0]\n",
    "t2 = time.time()\n",
    "print(f\"Time taken to process {nrows} with JSON: {t2 - t1:.3f} seconds\")"
   ]
  },
  {
   "cell_type": "code",
   "execution_count": 9,
   "id": "2dc58d3f",
   "metadata": {},
   "outputs": [
    {
     "data": {
      "text/plain": [
       "1000000"
      ]
     },
     "execution_count": 9,
     "metadata": {},
     "output_type": "execute_result"
    }
   ],
   "source": [
    "len(data[\"o_orderkey\"])"
   ]
  },
  {
   "cell_type": "markdown",
   "id": "c469b027",
   "metadata": {},
   "source": [
    "## JSON vs Arrow with Lineitem data"
   ]
  },
  {
   "cell_type": "code",
   "execution_count": 69,
   "id": "b3f64db1",
   "metadata": {},
   "outputs": [],
   "source": [
    "def benchmark():\n",
    "    benchmark_data = []\n",
    "    for nrows in [1_000, 10_000, 100_000, 1_000_000, 10_000_000]:\n",
    "        t1 = time.time()\n",
    "        t_arrow_deser = read_arrow_stream_from_url_batches(\n",
    "            f\"http://localhost:8000/rows/arrow/lineitem?nrows={nrows}\"\n",
    "        )[1]\n",
    "        t2 = time.time()\n",
    "        time_arrow = t2 - t1\n",
    "        print(f\"Time taken to read {nrows} from Arrow stream: {t2 - t1:.3f} seconds\")\n",
    "\n",
    "        t1 = time.time()\n",
    "        t_json_deser = json_request_handler(f\"http://localhost:8000/rows/json/lineitem?nrows={nrows}\")[1]\n",
    "        t2 = time.time()\n",
    "        time_json = t2 - t1\n",
    "        print(f\"Time taken to read {nrows} with JSON: {t2 - t1:.3f} seconds\")\n",
    "\n",
    "        benchmark_data.append(\n",
    "            {\"nrows\": nrows, \"time_arrow\": time_arrow, \"time_json\": time_json, \"t_arrow_deser\": t_arrow_deser, \"t_json_deser\": t_json_deser}\n",
    "        )\n",
    "    return benchmark_data"
   ]
  },
  {
   "cell_type": "code",
   "execution_count": 70,
   "id": "d5605b52",
   "metadata": {},
   "outputs": [
    {
     "name": "stdout",
     "output_type": "stream",
     "text": [
      "Time taken to deserialize Arrow stream: 0.000 seconds\n",
      "Time taken to read 1000 from Arrow stream: 0.047 seconds\n",
      "Time taken to deserialize JSON response: 0.002 seconds\n",
      "Time taken to read 1000 with JSON: 0.041 seconds\n",
      "Time taken to deserialize Arrow stream: 0.000 seconds\n",
      "Time taken to read 10000 from Arrow stream: 0.037 seconds\n",
      "Time taken to deserialize JSON response: 0.019 seconds\n",
      "Time taken to read 10000 with JSON: 0.188 seconds\n",
      "Time taken to deserialize Arrow stream: 0.000 seconds\n",
      "Time taken to read 100000 from Arrow stream: 0.145 seconds\n",
      "Time taken to deserialize JSON response: 0.174 seconds\n",
      "Time taken to read 100000 with JSON: 1.036 seconds\n",
      "Time taken to deserialize Arrow stream: 0.000 seconds\n",
      "Time taken to read 1000000 from Arrow stream: 1.083 seconds\n",
      "Time taken to deserialize JSON response: 1.720 seconds\n",
      "Time taken to read 1000000 with JSON: 10.225 seconds\n",
      "Time taken to deserialize Arrow stream: 0.000 seconds\n",
      "Time taken to read 10000000 from Arrow stream: 5.569 seconds\n",
      "Time taken to deserialize JSON response: 22.465 seconds\n",
      "Time taken to read 10000000 with JSON: 106.075 seconds\n"
     ]
    }
   ],
   "source": [
    "data = benchmark()"
   ]
  },
  {
   "cell_type": "code",
   "execution_count": 71,
   "id": "9e50151f",
   "metadata": {},
   "outputs": [
    {
     "data": {
      "application/vnd.plotly.v1+json": {
       "config": {
        "plotlyServerURL": "https://plot.ly"
       },
       "data": [
        {
         "hovertemplate": "variable=time_arrow<br>log(nrows)=%{x}<br>Time (seconds)=%{y}<extra></extra>",
         "legendgroup": "time_arrow",
         "line": {
          "color": "#636efa",
          "dash": "solid"
         },
         "marker": {
          "symbol": "circle"
         },
         "mode": "lines",
         "name": "time_arrow",
         "orientation": "v",
         "showlegend": true,
         "type": "scatter",
         "x": {
          "bdata": "6AMAABAnAACghgEAQEIPAICWmAA=",
          "dtype": "i4"
         },
         "xaxis": "x",
         "y": {
          "bdata": "AAAAAHAlqD8AAAAAGOCiPwAAAADwm8I/AAAAgDBS8T8AAADgdUYWQA==",
          "dtype": "f8"
         },
         "yaxis": "y"
        },
        {
         "hovertemplate": "variable=time_json<br>log(nrows)=%{x}<br>Time (seconds)=%{y}<extra></extra>",
         "legendgroup": "time_json",
         "line": {
          "color": "#EF553B",
          "dash": "solid"
         },
         "marker": {
          "symbol": "circle"
         },
         "mode": "lines",
         "name": "time_json",
         "orientation": "v",
         "showlegend": true,
         "type": "scatter",
         "x": {
          "bdata": "6AMAABAnAACghgEAQEIPAICWmAA=",
          "dtype": "i4"
         },
         "xaxis": "x",
         "y": {
          "bdata": "AAAAAIAypT8AAAAAAgXIPwAAAEDokvA/AAAAIHJzJEAAAAD7z4RaQA==",
          "dtype": "f8"
         },
         "yaxis": "y"
        }
       ],
       "layout": {
        "legend": {
         "title": {
          "text": "variable"
         },
         "tracegroupgap": 0
        },
        "template": {
         "data": {
          "bar": [
           {
            "error_x": {
             "color": "#2a3f5f"
            },
            "error_y": {
             "color": "#2a3f5f"
            },
            "marker": {
             "line": {
              "color": "#E5ECF6",
              "width": 0.5
             },
             "pattern": {
              "fillmode": "overlay",
              "size": 10,
              "solidity": 0.2
             }
            },
            "type": "bar"
           }
          ],
          "barpolar": [
           {
            "marker": {
             "line": {
              "color": "#E5ECF6",
              "width": 0.5
             },
             "pattern": {
              "fillmode": "overlay",
              "size": 10,
              "solidity": 0.2
             }
            },
            "type": "barpolar"
           }
          ],
          "carpet": [
           {
            "aaxis": {
             "endlinecolor": "#2a3f5f",
             "gridcolor": "white",
             "linecolor": "white",
             "minorgridcolor": "white",
             "startlinecolor": "#2a3f5f"
            },
            "baxis": {
             "endlinecolor": "#2a3f5f",
             "gridcolor": "white",
             "linecolor": "white",
             "minorgridcolor": "white",
             "startlinecolor": "#2a3f5f"
            },
            "type": "carpet"
           }
          ],
          "choropleth": [
           {
            "colorbar": {
             "outlinewidth": 0,
             "ticks": ""
            },
            "type": "choropleth"
           }
          ],
          "contour": [
           {
            "colorbar": {
             "outlinewidth": 0,
             "ticks": ""
            },
            "colorscale": [
             [
              0,
              "#0d0887"
             ],
             [
              0.1111111111111111,
              "#46039f"
             ],
             [
              0.2222222222222222,
              "#7201a8"
             ],
             [
              0.3333333333333333,
              "#9c179e"
             ],
             [
              0.4444444444444444,
              "#bd3786"
             ],
             [
              0.5555555555555556,
              "#d8576b"
             ],
             [
              0.6666666666666666,
              "#ed7953"
             ],
             [
              0.7777777777777778,
              "#fb9f3a"
             ],
             [
              0.8888888888888888,
              "#fdca26"
             ],
             [
              1,
              "#f0f921"
             ]
            ],
            "type": "contour"
           }
          ],
          "contourcarpet": [
           {
            "colorbar": {
             "outlinewidth": 0,
             "ticks": ""
            },
            "type": "contourcarpet"
           }
          ],
          "heatmap": [
           {
            "colorbar": {
             "outlinewidth": 0,
             "ticks": ""
            },
            "colorscale": [
             [
              0,
              "#0d0887"
             ],
             [
              0.1111111111111111,
              "#46039f"
             ],
             [
              0.2222222222222222,
              "#7201a8"
             ],
             [
              0.3333333333333333,
              "#9c179e"
             ],
             [
              0.4444444444444444,
              "#bd3786"
             ],
             [
              0.5555555555555556,
              "#d8576b"
             ],
             [
              0.6666666666666666,
              "#ed7953"
             ],
             [
              0.7777777777777778,
              "#fb9f3a"
             ],
             [
              0.8888888888888888,
              "#fdca26"
             ],
             [
              1,
              "#f0f921"
             ]
            ],
            "type": "heatmap"
           }
          ],
          "histogram": [
           {
            "marker": {
             "pattern": {
              "fillmode": "overlay",
              "size": 10,
              "solidity": 0.2
             }
            },
            "type": "histogram"
           }
          ],
          "histogram2d": [
           {
            "colorbar": {
             "outlinewidth": 0,
             "ticks": ""
            },
            "colorscale": [
             [
              0,
              "#0d0887"
             ],
             [
              0.1111111111111111,
              "#46039f"
             ],
             [
              0.2222222222222222,
              "#7201a8"
             ],
             [
              0.3333333333333333,
              "#9c179e"
             ],
             [
              0.4444444444444444,
              "#bd3786"
             ],
             [
              0.5555555555555556,
              "#d8576b"
             ],
             [
              0.6666666666666666,
              "#ed7953"
             ],
             [
              0.7777777777777778,
              "#fb9f3a"
             ],
             [
              0.8888888888888888,
              "#fdca26"
             ],
             [
              1,
              "#f0f921"
             ]
            ],
            "type": "histogram2d"
           }
          ],
          "histogram2dcontour": [
           {
            "colorbar": {
             "outlinewidth": 0,
             "ticks": ""
            },
            "colorscale": [
             [
              0,
              "#0d0887"
             ],
             [
              0.1111111111111111,
              "#46039f"
             ],
             [
              0.2222222222222222,
              "#7201a8"
             ],
             [
              0.3333333333333333,
              "#9c179e"
             ],
             [
              0.4444444444444444,
              "#bd3786"
             ],
             [
              0.5555555555555556,
              "#d8576b"
             ],
             [
              0.6666666666666666,
              "#ed7953"
             ],
             [
              0.7777777777777778,
              "#fb9f3a"
             ],
             [
              0.8888888888888888,
              "#fdca26"
             ],
             [
              1,
              "#f0f921"
             ]
            ],
            "type": "histogram2dcontour"
           }
          ],
          "mesh3d": [
           {
            "colorbar": {
             "outlinewidth": 0,
             "ticks": ""
            },
            "type": "mesh3d"
           }
          ],
          "parcoords": [
           {
            "line": {
             "colorbar": {
              "outlinewidth": 0,
              "ticks": ""
             }
            },
            "type": "parcoords"
           }
          ],
          "pie": [
           {
            "automargin": true,
            "type": "pie"
           }
          ],
          "scatter": [
           {
            "fillpattern": {
             "fillmode": "overlay",
             "size": 10,
             "solidity": 0.2
            },
            "type": "scatter"
           }
          ],
          "scatter3d": [
           {
            "line": {
             "colorbar": {
              "outlinewidth": 0,
              "ticks": ""
             }
            },
            "marker": {
             "colorbar": {
              "outlinewidth": 0,
              "ticks": ""
             }
            },
            "type": "scatter3d"
           }
          ],
          "scattercarpet": [
           {
            "marker": {
             "colorbar": {
              "outlinewidth": 0,
              "ticks": ""
             }
            },
            "type": "scattercarpet"
           }
          ],
          "scattergeo": [
           {
            "marker": {
             "colorbar": {
              "outlinewidth": 0,
              "ticks": ""
             }
            },
            "type": "scattergeo"
           }
          ],
          "scattergl": [
           {
            "marker": {
             "colorbar": {
              "outlinewidth": 0,
              "ticks": ""
             }
            },
            "type": "scattergl"
           }
          ],
          "scattermap": [
           {
            "marker": {
             "colorbar": {
              "outlinewidth": 0,
              "ticks": ""
             }
            },
            "type": "scattermap"
           }
          ],
          "scattermapbox": [
           {
            "marker": {
             "colorbar": {
              "outlinewidth": 0,
              "ticks": ""
             }
            },
            "type": "scattermapbox"
           }
          ],
          "scatterpolar": [
           {
            "marker": {
             "colorbar": {
              "outlinewidth": 0,
              "ticks": ""
             }
            },
            "type": "scatterpolar"
           }
          ],
          "scatterpolargl": [
           {
            "marker": {
             "colorbar": {
              "outlinewidth": 0,
              "ticks": ""
             }
            },
            "type": "scatterpolargl"
           }
          ],
          "scatterternary": [
           {
            "marker": {
             "colorbar": {
              "outlinewidth": 0,
              "ticks": ""
             }
            },
            "type": "scatterternary"
           }
          ],
          "surface": [
           {
            "colorbar": {
             "outlinewidth": 0,
             "ticks": ""
            },
            "colorscale": [
             [
              0,
              "#0d0887"
             ],
             [
              0.1111111111111111,
              "#46039f"
             ],
             [
              0.2222222222222222,
              "#7201a8"
             ],
             [
              0.3333333333333333,
              "#9c179e"
             ],
             [
              0.4444444444444444,
              "#bd3786"
             ],
             [
              0.5555555555555556,
              "#d8576b"
             ],
             [
              0.6666666666666666,
              "#ed7953"
             ],
             [
              0.7777777777777778,
              "#fb9f3a"
             ],
             [
              0.8888888888888888,
              "#fdca26"
             ],
             [
              1,
              "#f0f921"
             ]
            ],
            "type": "surface"
           }
          ],
          "table": [
           {
            "cells": {
             "fill": {
              "color": "#EBF0F8"
             },
             "line": {
              "color": "white"
             }
            },
            "header": {
             "fill": {
              "color": "#C8D4E3"
             },
             "line": {
              "color": "white"
             }
            },
            "type": "table"
           }
          ]
         },
         "layout": {
          "annotationdefaults": {
           "arrowcolor": "#2a3f5f",
           "arrowhead": 0,
           "arrowwidth": 1
          },
          "autotypenumbers": "strict",
          "coloraxis": {
           "colorbar": {
            "outlinewidth": 0,
            "ticks": ""
           }
          },
          "colorscale": {
           "diverging": [
            [
             0,
             "#8e0152"
            ],
            [
             0.1,
             "#c51b7d"
            ],
            [
             0.2,
             "#de77ae"
            ],
            [
             0.3,
             "#f1b6da"
            ],
            [
             0.4,
             "#fde0ef"
            ],
            [
             0.5,
             "#f7f7f7"
            ],
            [
             0.6,
             "#e6f5d0"
            ],
            [
             0.7,
             "#b8e186"
            ],
            [
             0.8,
             "#7fbc41"
            ],
            [
             0.9,
             "#4d9221"
            ],
            [
             1,
             "#276419"
            ]
           ],
           "sequential": [
            [
             0,
             "#0d0887"
            ],
            [
             0.1111111111111111,
             "#46039f"
            ],
            [
             0.2222222222222222,
             "#7201a8"
            ],
            [
             0.3333333333333333,
             "#9c179e"
            ],
            [
             0.4444444444444444,
             "#bd3786"
            ],
            [
             0.5555555555555556,
             "#d8576b"
            ],
            [
             0.6666666666666666,
             "#ed7953"
            ],
            [
             0.7777777777777778,
             "#fb9f3a"
            ],
            [
             0.8888888888888888,
             "#fdca26"
            ],
            [
             1,
             "#f0f921"
            ]
           ],
           "sequentialminus": [
            [
             0,
             "#0d0887"
            ],
            [
             0.1111111111111111,
             "#46039f"
            ],
            [
             0.2222222222222222,
             "#7201a8"
            ],
            [
             0.3333333333333333,
             "#9c179e"
            ],
            [
             0.4444444444444444,
             "#bd3786"
            ],
            [
             0.5555555555555556,
             "#d8576b"
            ],
            [
             0.6666666666666666,
             "#ed7953"
            ],
            [
             0.7777777777777778,
             "#fb9f3a"
            ],
            [
             0.8888888888888888,
             "#fdca26"
            ],
            [
             1,
             "#f0f921"
            ]
           ]
          },
          "colorway": [
           "#636efa",
           "#EF553B",
           "#00cc96",
           "#ab63fa",
           "#FFA15A",
           "#19d3f3",
           "#FF6692",
           "#B6E880",
           "#FF97FF",
           "#FECB52"
          ],
          "font": {
           "color": "#2a3f5f"
          },
          "geo": {
           "bgcolor": "white",
           "lakecolor": "white",
           "landcolor": "#E5ECF6",
           "showlakes": true,
           "showland": true,
           "subunitcolor": "white"
          },
          "hoverlabel": {
           "align": "left"
          },
          "hovermode": "closest",
          "mapbox": {
           "style": "light"
          },
          "paper_bgcolor": "white",
          "plot_bgcolor": "#E5ECF6",
          "polar": {
           "angularaxis": {
            "gridcolor": "white",
            "linecolor": "white",
            "ticks": ""
           },
           "bgcolor": "#E5ECF6",
           "radialaxis": {
            "gridcolor": "white",
            "linecolor": "white",
            "ticks": ""
           }
          },
          "scene": {
           "xaxis": {
            "backgroundcolor": "#E5ECF6",
            "gridcolor": "white",
            "gridwidth": 2,
            "linecolor": "white",
            "showbackground": true,
            "ticks": "",
            "zerolinecolor": "white"
           },
           "yaxis": {
            "backgroundcolor": "#E5ECF6",
            "gridcolor": "white",
            "gridwidth": 2,
            "linecolor": "white",
            "showbackground": true,
            "ticks": "",
            "zerolinecolor": "white"
           },
           "zaxis": {
            "backgroundcolor": "#E5ECF6",
            "gridcolor": "white",
            "gridwidth": 2,
            "linecolor": "white",
            "showbackground": true,
            "ticks": "",
            "zerolinecolor": "white"
           }
          },
          "shapedefaults": {
           "line": {
            "color": "#2a3f5f"
           }
          },
          "ternary": {
           "aaxis": {
            "gridcolor": "white",
            "linecolor": "white",
            "ticks": ""
           },
           "baxis": {
            "gridcolor": "white",
            "linecolor": "white",
            "ticks": ""
           },
           "bgcolor": "#E5ECF6",
           "caxis": {
            "gridcolor": "white",
            "linecolor": "white",
            "ticks": ""
           }
          },
          "title": {
           "x": 0.05
          },
          "xaxis": {
           "automargin": true,
           "gridcolor": "white",
           "linecolor": "white",
           "ticks": "",
           "title": {
            "standoff": 15
           },
           "zerolinecolor": "white",
           "zerolinewidth": 2
          },
          "yaxis": {
           "automargin": true,
           "gridcolor": "white",
           "linecolor": "white",
           "ticks": "",
           "title": {
            "standoff": 15
           },
           "zerolinecolor": "white",
           "zerolinewidth": 2
          }
         }
        },
        "title": {
         "text": "Arrow vs JSON Performance Benchmark"
        },
        "width": 800,
        "xaxis": {
         "anchor": "y",
         "domain": [
          0,
          1
         ],
         "title": {
          "text": "log(nrows)"
         },
         "type": "log"
        },
        "yaxis": {
         "anchor": "x",
         "domain": [
          0,
          1
         ],
         "title": {
          "text": "Time (seconds)"
         }
        }
       }
      }
     },
     "metadata": {},
     "output_type": "display_data"
    }
   ],
   "source": [
    "import pandas as pd\n",
    "import plotly.express as px\n",
    "\n",
    "df = pd.DataFrame(data)\n",
    "fig = px.line(\n",
    "    df,\n",
    "    x=\"nrows\",\n",
    "    y=[\"time_arrow\", \"time_json\"],\n",
    "    log_x=True,\n",
    "    labels={\"nrows\": \"log(nrows)\", \"value\": \"Time (seconds)\"},\n",
    "    title=\"Arrow vs JSON Performance Benchmark\",\n",
    "    width=800,\n",
    ")\n",
    "fig.show()"
   ]
  },
  {
   "cell_type": "code",
   "execution_count": 72,
   "id": "d8d4835a",
   "metadata": {},
   "outputs": [
    {
     "data": {
      "application/vnd.plotly.v1+json": {
       "config": {
        "plotlyServerURL": "https://plot.ly"
       },
       "data": [
        {
         "hovertemplate": "variable=t_arrow_deser<br>log(nrows)=%{x}<br>Time (seconds)=%{y}<extra></extra>",
         "legendgroup": "t_arrow_deser",
         "line": {
          "color": "#636efa",
          "dash": "solid"
         },
         "marker": {
          "symbol": "circle"
         },
         "mode": "lines",
         "name": "t_arrow_deser",
         "orientation": "v",
         "showlegend": true,
         "type": "scatter",
         "x": {
          "bdata": "6AMAABAnAACghgEAQEIPAICWmAA=",
          "dtype": "i4"
         },
         "xaxis": "x",
         "y": {
          "bdata": "AAAAAAA0Nj8AAAAAAGAdPwAAAAAAQBs/AAAAAAAQHT8AAAAAADgyPw==",
          "dtype": "f8"
         },
         "yaxis": "y"
        },
        {
         "hovertemplate": "variable=t_json_deser<br>log(nrows)=%{x}<br>Time (seconds)=%{y}<extra></extra>",
         "legendgroup": "t_json_deser",
         "line": {
          "color": "#EF553B",
          "dash": "solid"
         },
         "marker": {
          "symbol": "circle"
         },
         "mode": "lines",
         "name": "t_json_deser",
         "orientation": "v",
         "showlegend": true,
         "type": "scatter",
         "x": {
          "bdata": "6AMAABAnAACghgEAQEIPAICWmAA=",
          "dtype": "i4"
         },
         "xaxis": "x",
         "y": {
          "bdata": "AAAAAADKXz8AAAAAkNWTPwAAAABcPsY/AAAAgGyE+z8AAADY/3Y2QA==",
          "dtype": "f8"
         },
         "yaxis": "y"
        }
       ],
       "layout": {
        "legend": {
         "title": {
          "text": "variable"
         },
         "tracegroupgap": 0
        },
        "template": {
         "data": {
          "bar": [
           {
            "error_x": {
             "color": "#2a3f5f"
            },
            "error_y": {
             "color": "#2a3f5f"
            },
            "marker": {
             "line": {
              "color": "#E5ECF6",
              "width": 0.5
             },
             "pattern": {
              "fillmode": "overlay",
              "size": 10,
              "solidity": 0.2
             }
            },
            "type": "bar"
           }
          ],
          "barpolar": [
           {
            "marker": {
             "line": {
              "color": "#E5ECF6",
              "width": 0.5
             },
             "pattern": {
              "fillmode": "overlay",
              "size": 10,
              "solidity": 0.2
             }
            },
            "type": "barpolar"
           }
          ],
          "carpet": [
           {
            "aaxis": {
             "endlinecolor": "#2a3f5f",
             "gridcolor": "white",
             "linecolor": "white",
             "minorgridcolor": "white",
             "startlinecolor": "#2a3f5f"
            },
            "baxis": {
             "endlinecolor": "#2a3f5f",
             "gridcolor": "white",
             "linecolor": "white",
             "minorgridcolor": "white",
             "startlinecolor": "#2a3f5f"
            },
            "type": "carpet"
           }
          ],
          "choropleth": [
           {
            "colorbar": {
             "outlinewidth": 0,
             "ticks": ""
            },
            "type": "choropleth"
           }
          ],
          "contour": [
           {
            "colorbar": {
             "outlinewidth": 0,
             "ticks": ""
            },
            "colorscale": [
             [
              0,
              "#0d0887"
             ],
             [
              0.1111111111111111,
              "#46039f"
             ],
             [
              0.2222222222222222,
              "#7201a8"
             ],
             [
              0.3333333333333333,
              "#9c179e"
             ],
             [
              0.4444444444444444,
              "#bd3786"
             ],
             [
              0.5555555555555556,
              "#d8576b"
             ],
             [
              0.6666666666666666,
              "#ed7953"
             ],
             [
              0.7777777777777778,
              "#fb9f3a"
             ],
             [
              0.8888888888888888,
              "#fdca26"
             ],
             [
              1,
              "#f0f921"
             ]
            ],
            "type": "contour"
           }
          ],
          "contourcarpet": [
           {
            "colorbar": {
             "outlinewidth": 0,
             "ticks": ""
            },
            "type": "contourcarpet"
           }
          ],
          "heatmap": [
           {
            "colorbar": {
             "outlinewidth": 0,
             "ticks": ""
            },
            "colorscale": [
             [
              0,
              "#0d0887"
             ],
             [
              0.1111111111111111,
              "#46039f"
             ],
             [
              0.2222222222222222,
              "#7201a8"
             ],
             [
              0.3333333333333333,
              "#9c179e"
             ],
             [
              0.4444444444444444,
              "#bd3786"
             ],
             [
              0.5555555555555556,
              "#d8576b"
             ],
             [
              0.6666666666666666,
              "#ed7953"
             ],
             [
              0.7777777777777778,
              "#fb9f3a"
             ],
             [
              0.8888888888888888,
              "#fdca26"
             ],
             [
              1,
              "#f0f921"
             ]
            ],
            "type": "heatmap"
           }
          ],
          "histogram": [
           {
            "marker": {
             "pattern": {
              "fillmode": "overlay",
              "size": 10,
              "solidity": 0.2
             }
            },
            "type": "histogram"
           }
          ],
          "histogram2d": [
           {
            "colorbar": {
             "outlinewidth": 0,
             "ticks": ""
            },
            "colorscale": [
             [
              0,
              "#0d0887"
             ],
             [
              0.1111111111111111,
              "#46039f"
             ],
             [
              0.2222222222222222,
              "#7201a8"
             ],
             [
              0.3333333333333333,
              "#9c179e"
             ],
             [
              0.4444444444444444,
              "#bd3786"
             ],
             [
              0.5555555555555556,
              "#d8576b"
             ],
             [
              0.6666666666666666,
              "#ed7953"
             ],
             [
              0.7777777777777778,
              "#fb9f3a"
             ],
             [
              0.8888888888888888,
              "#fdca26"
             ],
             [
              1,
              "#f0f921"
             ]
            ],
            "type": "histogram2d"
           }
          ],
          "histogram2dcontour": [
           {
            "colorbar": {
             "outlinewidth": 0,
             "ticks": ""
            },
            "colorscale": [
             [
              0,
              "#0d0887"
             ],
             [
              0.1111111111111111,
              "#46039f"
             ],
             [
              0.2222222222222222,
              "#7201a8"
             ],
             [
              0.3333333333333333,
              "#9c179e"
             ],
             [
              0.4444444444444444,
              "#bd3786"
             ],
             [
              0.5555555555555556,
              "#d8576b"
             ],
             [
              0.6666666666666666,
              "#ed7953"
             ],
             [
              0.7777777777777778,
              "#fb9f3a"
             ],
             [
              0.8888888888888888,
              "#fdca26"
             ],
             [
              1,
              "#f0f921"
             ]
            ],
            "type": "histogram2dcontour"
           }
          ],
          "mesh3d": [
           {
            "colorbar": {
             "outlinewidth": 0,
             "ticks": ""
            },
            "type": "mesh3d"
           }
          ],
          "parcoords": [
           {
            "line": {
             "colorbar": {
              "outlinewidth": 0,
              "ticks": ""
             }
            },
            "type": "parcoords"
           }
          ],
          "pie": [
           {
            "automargin": true,
            "type": "pie"
           }
          ],
          "scatter": [
           {
            "fillpattern": {
             "fillmode": "overlay",
             "size": 10,
             "solidity": 0.2
            },
            "type": "scatter"
           }
          ],
          "scatter3d": [
           {
            "line": {
             "colorbar": {
              "outlinewidth": 0,
              "ticks": ""
             }
            },
            "marker": {
             "colorbar": {
              "outlinewidth": 0,
              "ticks": ""
             }
            },
            "type": "scatter3d"
           }
          ],
          "scattercarpet": [
           {
            "marker": {
             "colorbar": {
              "outlinewidth": 0,
              "ticks": ""
             }
            },
            "type": "scattercarpet"
           }
          ],
          "scattergeo": [
           {
            "marker": {
             "colorbar": {
              "outlinewidth": 0,
              "ticks": ""
             }
            },
            "type": "scattergeo"
           }
          ],
          "scattergl": [
           {
            "marker": {
             "colorbar": {
              "outlinewidth": 0,
              "ticks": ""
             }
            },
            "type": "scattergl"
           }
          ],
          "scattermap": [
           {
            "marker": {
             "colorbar": {
              "outlinewidth": 0,
              "ticks": ""
             }
            },
            "type": "scattermap"
           }
          ],
          "scattermapbox": [
           {
            "marker": {
             "colorbar": {
              "outlinewidth": 0,
              "ticks": ""
             }
            },
            "type": "scattermapbox"
           }
          ],
          "scatterpolar": [
           {
            "marker": {
             "colorbar": {
              "outlinewidth": 0,
              "ticks": ""
             }
            },
            "type": "scatterpolar"
           }
          ],
          "scatterpolargl": [
           {
            "marker": {
             "colorbar": {
              "outlinewidth": 0,
              "ticks": ""
             }
            },
            "type": "scatterpolargl"
           }
          ],
          "scatterternary": [
           {
            "marker": {
             "colorbar": {
              "outlinewidth": 0,
              "ticks": ""
             }
            },
            "type": "scatterternary"
           }
          ],
          "surface": [
           {
            "colorbar": {
             "outlinewidth": 0,
             "ticks": ""
            },
            "colorscale": [
             [
              0,
              "#0d0887"
             ],
             [
              0.1111111111111111,
              "#46039f"
             ],
             [
              0.2222222222222222,
              "#7201a8"
             ],
             [
              0.3333333333333333,
              "#9c179e"
             ],
             [
              0.4444444444444444,
              "#bd3786"
             ],
             [
              0.5555555555555556,
              "#d8576b"
             ],
             [
              0.6666666666666666,
              "#ed7953"
             ],
             [
              0.7777777777777778,
              "#fb9f3a"
             ],
             [
              0.8888888888888888,
              "#fdca26"
             ],
             [
              1,
              "#f0f921"
             ]
            ],
            "type": "surface"
           }
          ],
          "table": [
           {
            "cells": {
             "fill": {
              "color": "#EBF0F8"
             },
             "line": {
              "color": "white"
             }
            },
            "header": {
             "fill": {
              "color": "#C8D4E3"
             },
             "line": {
              "color": "white"
             }
            },
            "type": "table"
           }
          ]
         },
         "layout": {
          "annotationdefaults": {
           "arrowcolor": "#2a3f5f",
           "arrowhead": 0,
           "arrowwidth": 1
          },
          "autotypenumbers": "strict",
          "coloraxis": {
           "colorbar": {
            "outlinewidth": 0,
            "ticks": ""
           }
          },
          "colorscale": {
           "diverging": [
            [
             0,
             "#8e0152"
            ],
            [
             0.1,
             "#c51b7d"
            ],
            [
             0.2,
             "#de77ae"
            ],
            [
             0.3,
             "#f1b6da"
            ],
            [
             0.4,
             "#fde0ef"
            ],
            [
             0.5,
             "#f7f7f7"
            ],
            [
             0.6,
             "#e6f5d0"
            ],
            [
             0.7,
             "#b8e186"
            ],
            [
             0.8,
             "#7fbc41"
            ],
            [
             0.9,
             "#4d9221"
            ],
            [
             1,
             "#276419"
            ]
           ],
           "sequential": [
            [
             0,
             "#0d0887"
            ],
            [
             0.1111111111111111,
             "#46039f"
            ],
            [
             0.2222222222222222,
             "#7201a8"
            ],
            [
             0.3333333333333333,
             "#9c179e"
            ],
            [
             0.4444444444444444,
             "#bd3786"
            ],
            [
             0.5555555555555556,
             "#d8576b"
            ],
            [
             0.6666666666666666,
             "#ed7953"
            ],
            [
             0.7777777777777778,
             "#fb9f3a"
            ],
            [
             0.8888888888888888,
             "#fdca26"
            ],
            [
             1,
             "#f0f921"
            ]
           ],
           "sequentialminus": [
            [
             0,
             "#0d0887"
            ],
            [
             0.1111111111111111,
             "#46039f"
            ],
            [
             0.2222222222222222,
             "#7201a8"
            ],
            [
             0.3333333333333333,
             "#9c179e"
            ],
            [
             0.4444444444444444,
             "#bd3786"
            ],
            [
             0.5555555555555556,
             "#d8576b"
            ],
            [
             0.6666666666666666,
             "#ed7953"
            ],
            [
             0.7777777777777778,
             "#fb9f3a"
            ],
            [
             0.8888888888888888,
             "#fdca26"
            ],
            [
             1,
             "#f0f921"
            ]
           ]
          },
          "colorway": [
           "#636efa",
           "#EF553B",
           "#00cc96",
           "#ab63fa",
           "#FFA15A",
           "#19d3f3",
           "#FF6692",
           "#B6E880",
           "#FF97FF",
           "#FECB52"
          ],
          "font": {
           "color": "#2a3f5f"
          },
          "geo": {
           "bgcolor": "white",
           "lakecolor": "white",
           "landcolor": "#E5ECF6",
           "showlakes": true,
           "showland": true,
           "subunitcolor": "white"
          },
          "hoverlabel": {
           "align": "left"
          },
          "hovermode": "closest",
          "mapbox": {
           "style": "light"
          },
          "paper_bgcolor": "white",
          "plot_bgcolor": "#E5ECF6",
          "polar": {
           "angularaxis": {
            "gridcolor": "white",
            "linecolor": "white",
            "ticks": ""
           },
           "bgcolor": "#E5ECF6",
           "radialaxis": {
            "gridcolor": "white",
            "linecolor": "white",
            "ticks": ""
           }
          },
          "scene": {
           "xaxis": {
            "backgroundcolor": "#E5ECF6",
            "gridcolor": "white",
            "gridwidth": 2,
            "linecolor": "white",
            "showbackground": true,
            "ticks": "",
            "zerolinecolor": "white"
           },
           "yaxis": {
            "backgroundcolor": "#E5ECF6",
            "gridcolor": "white",
            "gridwidth": 2,
            "linecolor": "white",
            "showbackground": true,
            "ticks": "",
            "zerolinecolor": "white"
           },
           "zaxis": {
            "backgroundcolor": "#E5ECF6",
            "gridcolor": "white",
            "gridwidth": 2,
            "linecolor": "white",
            "showbackground": true,
            "ticks": "",
            "zerolinecolor": "white"
           }
          },
          "shapedefaults": {
           "line": {
            "color": "#2a3f5f"
           }
          },
          "ternary": {
           "aaxis": {
            "gridcolor": "white",
            "linecolor": "white",
            "ticks": ""
           },
           "baxis": {
            "gridcolor": "white",
            "linecolor": "white",
            "ticks": ""
           },
           "bgcolor": "#E5ECF6",
           "caxis": {
            "gridcolor": "white",
            "linecolor": "white",
            "ticks": ""
           }
          },
          "title": {
           "x": 0.05
          },
          "xaxis": {
           "automargin": true,
           "gridcolor": "white",
           "linecolor": "white",
           "ticks": "",
           "title": {
            "standoff": 15
           },
           "zerolinecolor": "white",
           "zerolinewidth": 2
          },
          "yaxis": {
           "automargin": true,
           "gridcolor": "white",
           "linecolor": "white",
           "ticks": "",
           "title": {
            "standoff": 15
           },
           "zerolinecolor": "white",
           "zerolinewidth": 2
          }
         }
        },
        "title": {
         "text": "Arrow vs JSON Deserialization Benchmark"
        },
        "width": 800,
        "xaxis": {
         "anchor": "y",
         "domain": [
          0,
          1
         ],
         "title": {
          "text": "log(nrows)"
         },
         "type": "log"
        },
        "yaxis": {
         "anchor": "x",
         "domain": [
          0,
          1
         ],
         "title": {
          "text": "Time (seconds)"
         }
        }
       }
      }
     },
     "metadata": {},
     "output_type": "display_data"
    }
   ],
   "source": [
    "fig = px.line(\n",
    "    df,\n",
    "    x=\"nrows\",\n",
    "    y=[\"t_arrow_deser\", \"t_json_deser\"],\n",
    "    log_x=True,\n",
    "    labels={\"nrows\": \"log(nrows)\", \"value\": \"Time (seconds)\"},\n",
    "    title=\"Arrow vs JSON Deserialization Benchmark\",\n",
    "    width=800,\n",
    ")\n",
    "fig.show()"
   ]
  },
  {
   "cell_type": "markdown",
   "id": "1d882545",
   "metadata": {},
   "source": [
    "## Querying data with DuckDB as a client"
   ]
  },
  {
   "cell_type": "code",
   "execution_count": 41,
   "id": "6bfc73d7",
   "metadata": {},
   "outputs": [],
   "source": [
    "import duckdb\n",
    "import json\n",
    "import os\n",
    "import pandas as pd"
   ]
  },
  {
   "cell_type": "code",
   "execution_count": 43,
   "id": "2c176c66",
   "metadata": {},
   "outputs": [],
   "source": [
    "nrows = 10_000_000\n",
    "tpch_query = \"\"\"SELECT\n",
    "    l_returnflag,\n",
    "    l_linestatus,\n",
    "    sum(l_quantity) as sum_qty,\n",
    "    sum(l_extendedprice) as sum_base_price,\n",
    "    sum(l_extendedprice * (1 - l_discount)) as sum_disc_price,\n",
    "    sum(l_extendedprice * (1 - l_discount) * (1 + l_tax)) as sum_charge,\n",
    "    avg(l_quantity) as avg_qty,\n",
    "    avg(l_extendedprice) as avg_price,\n",
    "    avg(l_discount) as avg_disc,\n",
    "    count(*) as count_order\n",
    "FROM\n",
    "    {table}\n",
    "WHERE\n",
    "    l_shipdate <= date '1998-12-01' - interval '90' day\n",
    "GROUP BY\n",
    "    l_returnflag,\n",
    "    l_linestatus\n",
    "ORDER BY\n",
    "    l_returnflag,\n",
    "    l_linestatus;\"\"\""
   ]
  },
  {
   "cell_type": "code",
   "execution_count": 13,
   "id": "5f135400",
   "metadata": {},
   "outputs": [
    {
     "name": "stdout",
     "output_type": "stream",
     "text": [
      "Time taken to read 10000000 from Arrow stream: 5.63 seconds\n",
      "Time taken to execute query: 0.35 seconds\n"
     ]
    },
    {
     "data": {
      "text/html": [
       "<div>\n",
       "<style scoped>\n",
       "    .dataframe tbody tr th:only-of-type {\n",
       "        vertical-align: middle;\n",
       "    }\n",
       "\n",
       "    .dataframe tbody tr th {\n",
       "        vertical-align: top;\n",
       "    }\n",
       "\n",
       "    .dataframe thead th {\n",
       "        text-align: right;\n",
       "    }\n",
       "</style>\n",
       "<table border=\"1\" class=\"dataframe\">\n",
       "  <thead>\n",
       "    <tr style=\"text-align: right;\">\n",
       "      <th></th>\n",
       "      <th>l_returnflag</th>\n",
       "      <th>l_linestatus</th>\n",
       "      <th>sum_qty</th>\n",
       "      <th>sum_base_price</th>\n",
       "      <th>sum_disc_price</th>\n",
       "      <th>sum_charge</th>\n",
       "      <th>avg_qty</th>\n",
       "      <th>avg_price</th>\n",
       "      <th>avg_disc</th>\n",
       "      <th>count_order</th>\n",
       "    </tr>\n",
       "  </thead>\n",
       "  <tbody>\n",
       "    <tr>\n",
       "      <th>0</th>\n",
       "      <td>A</td>\n",
       "      <td>F</td>\n",
       "      <td>62903247.0</td>\n",
       "      <td>9.429518e+10</td>\n",
       "      <td>8.958024e+10</td>\n",
       "      <td>9.316454e+10</td>\n",
       "      <td>25.509100</td>\n",
       "      <td>38239.444388</td>\n",
       "      <td>0.050002</td>\n",
       "      <td>2465914</td>\n",
       "    </tr>\n",
       "    <tr>\n",
       "      <th>1</th>\n",
       "      <td>N</td>\n",
       "      <td>F</td>\n",
       "      <td>1642769.0</td>\n",
       "      <td>2.463897e+09</td>\n",
       "      <td>2.340822e+09</td>\n",
       "      <td>2.434582e+09</td>\n",
       "      <td>25.535799</td>\n",
       "      <td>38299.715432</td>\n",
       "      <td>0.049946</td>\n",
       "      <td>64332</td>\n",
       "    </tr>\n",
       "    <tr>\n",
       "      <th>2</th>\n",
       "      <td>N</td>\n",
       "      <td>O</td>\n",
       "      <td>123887308.0</td>\n",
       "      <td>1.857666e+11</td>\n",
       "      <td>1.764848e+11</td>\n",
       "      <td>1.835480e+11</td>\n",
       "      <td>25.494709</td>\n",
       "      <td>38228.822083</td>\n",
       "      <td>0.049973</td>\n",
       "      <td>4859334</td>\n",
       "    </tr>\n",
       "    <tr>\n",
       "      <th>3</th>\n",
       "      <td>R</td>\n",
       "      <td>F</td>\n",
       "      <td>62997464.0</td>\n",
       "      <td>9.445244e+10</td>\n",
       "      <td>8.973206e+10</td>\n",
       "      <td>9.332040e+10</td>\n",
       "      <td>25.509539</td>\n",
       "      <td>38246.588969</td>\n",
       "      <td>0.049981</td>\n",
       "      <td>2469565</td>\n",
       "    </tr>\n",
       "  </tbody>\n",
       "</table>\n",
       "</div>"
      ],
      "text/plain": [
       "  l_returnflag l_linestatus      sum_qty  sum_base_price  sum_disc_price  \\\n",
       "0            A            F   62903247.0    9.429518e+10    8.958024e+10   \n",
       "1            N            F    1642769.0    2.463897e+09    2.340822e+09   \n",
       "2            N            O  123887308.0    1.857666e+11    1.764848e+11   \n",
       "3            R            F   62997464.0    9.445244e+10    8.973206e+10   \n",
       "\n",
       "     sum_charge    avg_qty     avg_price  avg_disc  count_order  \n",
       "0  9.316454e+10  25.509100  38239.444388  0.050002      2465914  \n",
       "1  2.434582e+09  25.535799  38299.715432  0.049946        64332  \n",
       "2  1.835480e+11  25.494709  38228.822083  0.049973      4859334  \n",
       "3  9.332040e+10  25.509539  38246.588969  0.049981      2469565  "
      ]
     },
     "execution_count": 13,
     "metadata": {},
     "output_type": "execute_result"
    }
   ],
   "source": [
    "## ARROW\n",
    "\n",
    "# Retrieve\n",
    "t1 = time.time()\n",
    "arrow_table = read_arrow_stream_from_url_batches(\n",
    "    f\"http://localhost:8000/rows/arrow/lineitem?nrows={nrows}\"\n",
    ")\n",
    "t2 = time.time()\n",
    "print(f\"Time taken to read {nrows} from Arrow stream: {t2 - t1:.2f} seconds\")\n",
    "t1 = time.time()\n",
    "\n",
    "# Query\n",
    "with duckdb.connect() as con:\n",
    "    r = con.execute(tpch_query.format(table=\"arrow_table\"))\n",
    "    df = r.fetch_df()\n",
    "t2 = time.time()\n",
    "print(f\"Time taken to execute query: {t2 - t1:.2f} seconds\")\n",
    "df"
   ]
  },
  {
   "cell_type": "markdown",
   "id": "b39413ab",
   "metadata": {},
   "source": [
    "**TCPH queries are not going to work in the JSON data without some casting of types**. Somewhere in the serialization process at the server side dates where formatted in a way that cannot be understood by Arrow."
   ]
  },
  {
   "cell_type": "code",
   "execution_count": 44,
   "id": "91d914f3",
   "metadata": {},
   "outputs": [
    {
     "name": "stdout",
     "output_type": "stream",
     "text": [
      "Time taken to process 10000000 with JSON: 101.11 seconds\n"
     ]
    }
   ],
   "source": [
    "## JSON\n",
    "t1 = time.time()\n",
    "json_data = json_request_handler(f\"http://localhost:8000/rows/json/lineitem?nrows={nrows}\")\n",
    "t2 = time.time()\n",
    "print(f\"Time taken to process {nrows} with JSON: {t2 - t1:.2f} seconds\")"
   ]
  },
  {
   "cell_type": "code",
   "execution_count": 38,
   "id": "907b4e32",
   "metadata": {},
   "outputs": [
    {
     "name": "stdout",
     "output_type": "stream",
     "text": [
      "Time taken to dump JSON to disk: 7.33 seconds\n",
      "Time taken to execute query: 10.99 seconds\n"
     ]
    },
    {
     "data": {
      "text/html": [
       "<div>\n",
       "<style scoped>\n",
       "    .dataframe tbody tr th:only-of-type {\n",
       "        vertical-align: middle;\n",
       "    }\n",
       "\n",
       "    .dataframe tbody tr th {\n",
       "        vertical-align: top;\n",
       "    }\n",
       "\n",
       "    .dataframe thead th {\n",
       "        text-align: right;\n",
       "    }\n",
       "</style>\n",
       "<table border=\"1\" class=\"dataframe\">\n",
       "  <thead>\n",
       "    <tr style=\"text-align: right;\">\n",
       "      <th></th>\n",
       "      <th>l_orderkey</th>\n",
       "      <th>l_partkey</th>\n",
       "      <th>l_suppkey</th>\n",
       "      <th>l_linenumber</th>\n",
       "      <th>l_quantity</th>\n",
       "      <th>l_extendedprice</th>\n",
       "      <th>l_discount</th>\n",
       "      <th>l_tax</th>\n",
       "      <th>l_returnflag</th>\n",
       "      <th>l_linestatus</th>\n",
       "      <th>l_shipdate</th>\n",
       "      <th>l_commitdate</th>\n",
       "      <th>l_receiptdate</th>\n",
       "      <th>l_shipinstruct</th>\n",
       "      <th>l_shipmode</th>\n",
       "      <th>l_comment</th>\n",
       "    </tr>\n",
       "  </thead>\n",
       "  <tbody>\n",
       "    <tr>\n",
       "      <th>0</th>\n",
       "      <td>[1, 1, 1, 1, 1, 1, 2, 3, 3, 3, 3, 3, 3, 4, 5, ...</td>\n",
       "      <td>[1551894, 673091, 636998, 21315, 240267, 15634...</td>\n",
       "      <td>[76910, 73092, 36999, 46316, 15274, 6348, 1171...</td>\n",
       "      <td>[1, 2, 3, 4, 5, 6, 1, 1, 2, 3, 4, 5, 6, 1, 1, ...</td>\n",
       "      <td>[17.0, 36.0, 8.0, 28.0, 24.0, 32.0, 38.0, 45.0...</td>\n",
       "      <td>[33078.94, 38306.16, 15479.68, 34616.68, 28974...</td>\n",
       "      <td>[0.04, 0.09, 0.1, 0.09, 0.1, 0.07, 0.0, 0.06, ...</td>\n",
       "      <td>[0.02, 0.06, 0.02, 0.06, 0.04, 0.02, 0.05, 0.0...</td>\n",
       "      <td>[N, N, N, N, N, N, N, R, R, A, A, R, A, N, R, ...</td>\n",
       "      <td>[O, O, O, O, O, O, O, F, F, F, F, F, F, O, F, ...</td>\n",
       "      <td>[1996-03-13T00:00:00, 1996-04-12T00:00:00, 199...</td>\n",
       "      <td>[1996-02-12T00:00:00, 1996-02-28T00:00:00, 199...</td>\n",
       "      <td>[1996-03-22T00:00:00, 1996-04-20T00:00:00, 199...</td>\n",
       "      <td>[DELIVER IN PERSON, TAKE BACK RETURN, TAKE BAC...</td>\n",
       "      <td>[TRUCK, MAIL, REG AIR, AIR, FOB, MAIL, RAIL, A...</td>\n",
       "      <td>[to beans x-ray carefull,  according to the fi...</td>\n",
       "    </tr>\n",
       "  </tbody>\n",
       "</table>\n",
       "</div>"
      ],
      "text/plain": [
       "                                          l_orderkey  \\\n",
       "0  [1, 1, 1, 1, 1, 1, 2, 3, 3, 3, 3, 3, 3, 4, 5, ...   \n",
       "\n",
       "                                           l_partkey  \\\n",
       "0  [1551894, 673091, 636998, 21315, 240267, 15634...   \n",
       "\n",
       "                                           l_suppkey  \\\n",
       "0  [76910, 73092, 36999, 46316, 15274, 6348, 1171...   \n",
       "\n",
       "                                        l_linenumber  \\\n",
       "0  [1, 2, 3, 4, 5, 6, 1, 1, 2, 3, 4, 5, 6, 1, 1, ...   \n",
       "\n",
       "                                          l_quantity  \\\n",
       "0  [17.0, 36.0, 8.0, 28.0, 24.0, 32.0, 38.0, 45.0...   \n",
       "\n",
       "                                     l_extendedprice  \\\n",
       "0  [33078.94, 38306.16, 15479.68, 34616.68, 28974...   \n",
       "\n",
       "                                          l_discount  \\\n",
       "0  [0.04, 0.09, 0.1, 0.09, 0.1, 0.07, 0.0, 0.06, ...   \n",
       "\n",
       "                                               l_tax  \\\n",
       "0  [0.02, 0.06, 0.02, 0.06, 0.04, 0.02, 0.05, 0.0...   \n",
       "\n",
       "                                        l_returnflag  \\\n",
       "0  [N, N, N, N, N, N, N, R, R, A, A, R, A, N, R, ...   \n",
       "\n",
       "                                        l_linestatus  \\\n",
       "0  [O, O, O, O, O, O, O, F, F, F, F, F, F, O, F, ...   \n",
       "\n",
       "                                          l_shipdate  \\\n",
       "0  [1996-03-13T00:00:00, 1996-04-12T00:00:00, 199...   \n",
       "\n",
       "                                        l_commitdate  \\\n",
       "0  [1996-02-12T00:00:00, 1996-02-28T00:00:00, 199...   \n",
       "\n",
       "                                       l_receiptdate  \\\n",
       "0  [1996-03-22T00:00:00, 1996-04-20T00:00:00, 199...   \n",
       "\n",
       "                                      l_shipinstruct  \\\n",
       "0  [DELIVER IN PERSON, TAKE BACK RETURN, TAKE BAC...   \n",
       "\n",
       "                                          l_shipmode  \\\n",
       "0  [TRUCK, MAIL, REG AIR, AIR, FOB, MAIL, RAIL, A...   \n",
       "\n",
       "                                           l_comment  \n",
       "0  [to beans x-ray carefull,  according to the fi...  "
      ]
     },
     "execution_count": 38,
     "metadata": {},
     "output_type": "execute_result"
    }
   ],
   "source": [
    "# Write to disk and query (not very efficient and results need to be exploded)\n",
    "t1 = time.time()\n",
    "if os.path.exists('../tmp/data.json'):\n",
    "    os.remove('../tmp/data.json')\n",
    "with open('../tmp/data.json', 'w') as f:\n",
    "    json.dump(json_data, f)\n",
    "t2 = time.time()\n",
    "print(f\"Time taken to dump JSON to disk: {t2 - t1:.2f} seconds\")\n",
    "t1 = time.time()\n",
    "with duckdb.connect() as con:\n",
    "    r = con.execute(\"SELECT * FROM read_json('../tmp/data.json', maximum_object_size=197108896)\")\n",
    "    df = r.fetch_df() \n",
    "t2 = time.time()\n",
    "print(f\"Time taken to execute query: {t2 - t1:.2f} seconds\")\n",
    "df"
   ]
  },
  {
   "cell_type": "code",
   "execution_count": null,
   "id": "4f9675c5",
   "metadata": {},
   "outputs": [
    {
     "name": "stdout",
     "output_type": "stream",
     "text": [
      "Time taken to convert JSON to Arrow: 0.57 seconds\n",
      "Time taken to execute query: 0.01 seconds\n"
     ]
    },
    {
     "data": {
      "text/html": [
       "<div>\n",
       "<style scoped>\n",
       "    .dataframe tbody tr th:only-of-type {\n",
       "        vertical-align: middle;\n",
       "    }\n",
       "\n",
       "    .dataframe tbody tr th {\n",
       "        vertical-align: top;\n",
       "    }\n",
       "\n",
       "    .dataframe thead th {\n",
       "        text-align: right;\n",
       "    }\n",
       "</style>\n",
       "<table border=\"1\" class=\"dataframe\">\n",
       "  <thead>\n",
       "    <tr style=\"text-align: right;\">\n",
       "      <th></th>\n",
       "      <th>l_orderkey</th>\n",
       "      <th>l_partkey</th>\n",
       "      <th>l_suppkey</th>\n",
       "      <th>l_linenumber</th>\n",
       "      <th>l_quantity</th>\n",
       "      <th>l_extendedprice</th>\n",
       "      <th>l_discount</th>\n",
       "      <th>l_tax</th>\n",
       "      <th>l_returnflag</th>\n",
       "      <th>l_linestatus</th>\n",
       "      <th>l_shipdate</th>\n",
       "      <th>l_commitdate</th>\n",
       "      <th>l_receiptdate</th>\n",
       "      <th>l_shipinstruct</th>\n",
       "      <th>l_shipmode</th>\n",
       "      <th>l_comment</th>\n",
       "    </tr>\n",
       "  </thead>\n",
       "  <tbody>\n",
       "    <tr>\n",
       "      <th>0</th>\n",
       "      <td>1</td>\n",
       "      <td>1551894</td>\n",
       "      <td>76910</td>\n",
       "      <td>1</td>\n",
       "      <td>17.0</td>\n",
       "      <td>33078.94</td>\n",
       "      <td>0.04</td>\n",
       "      <td>0.02</td>\n",
       "      <td>N</td>\n",
       "      <td>O</td>\n",
       "      <td>1996-03-13T00:00:00</td>\n",
       "      <td>1996-02-12T00:00:00</td>\n",
       "      <td>1996-03-22T00:00:00</td>\n",
       "      <td>DELIVER IN PERSON</td>\n",
       "      <td>TRUCK</td>\n",
       "      <td>to beans x-ray carefull</td>\n",
       "    </tr>\n",
       "    <tr>\n",
       "      <th>1</th>\n",
       "      <td>1</td>\n",
       "      <td>673091</td>\n",
       "      <td>73092</td>\n",
       "      <td>2</td>\n",
       "      <td>36.0</td>\n",
       "      <td>38306.16</td>\n",
       "      <td>0.09</td>\n",
       "      <td>0.06</td>\n",
       "      <td>N</td>\n",
       "      <td>O</td>\n",
       "      <td>1996-04-12T00:00:00</td>\n",
       "      <td>1996-02-28T00:00:00</td>\n",
       "      <td>1996-04-20T00:00:00</td>\n",
       "      <td>TAKE BACK RETURN</td>\n",
       "      <td>MAIL</td>\n",
       "      <td>according to the final foxes. qui</td>\n",
       "    </tr>\n",
       "    <tr>\n",
       "      <th>2</th>\n",
       "      <td>1</td>\n",
       "      <td>636998</td>\n",
       "      <td>36999</td>\n",
       "      <td>3</td>\n",
       "      <td>8.0</td>\n",
       "      <td>15479.68</td>\n",
       "      <td>0.10</td>\n",
       "      <td>0.02</td>\n",
       "      <td>N</td>\n",
       "      <td>O</td>\n",
       "      <td>1996-01-29T00:00:00</td>\n",
       "      <td>1996-03-05T00:00:00</td>\n",
       "      <td>1996-01-31T00:00:00</td>\n",
       "      <td>TAKE BACK RETURN</td>\n",
       "      <td>REG AIR</td>\n",
       "      <td>ourts cajole above the furiou</td>\n",
       "    </tr>\n",
       "    <tr>\n",
       "      <th>3</th>\n",
       "      <td>1</td>\n",
       "      <td>21315</td>\n",
       "      <td>46316</td>\n",
       "      <td>4</td>\n",
       "      <td>28.0</td>\n",
       "      <td>34616.68</td>\n",
       "      <td>0.09</td>\n",
       "      <td>0.06</td>\n",
       "      <td>N</td>\n",
       "      <td>O</td>\n",
       "      <td>1996-04-21T00:00:00</td>\n",
       "      <td>1996-03-30T00:00:00</td>\n",
       "      <td>1996-05-16T00:00:00</td>\n",
       "      <td>NONE</td>\n",
       "      <td>AIR</td>\n",
       "      <td>s cajole busily above t</td>\n",
       "    </tr>\n",
       "    <tr>\n",
       "      <th>4</th>\n",
       "      <td>1</td>\n",
       "      <td>240267</td>\n",
       "      <td>15274</td>\n",
       "      <td>5</td>\n",
       "      <td>24.0</td>\n",
       "      <td>28974.00</td>\n",
       "      <td>0.10</td>\n",
       "      <td>0.04</td>\n",
       "      <td>N</td>\n",
       "      <td>O</td>\n",
       "      <td>1996-03-30T00:00:00</td>\n",
       "      <td>1996-03-14T00:00:00</td>\n",
       "      <td>1996-04-01T00:00:00</td>\n",
       "      <td>NONE</td>\n",
       "      <td>FOB</td>\n",
       "      <td>the regular, regular pa</td>\n",
       "    </tr>\n",
       "    <tr>\n",
       "      <th>5</th>\n",
       "      <td>1</td>\n",
       "      <td>156345</td>\n",
       "      <td>6348</td>\n",
       "      <td>6</td>\n",
       "      <td>32.0</td>\n",
       "      <td>44842.88</td>\n",
       "      <td>0.07</td>\n",
       "      <td>0.02</td>\n",
       "      <td>N</td>\n",
       "      <td>O</td>\n",
       "      <td>1996-01-30T00:00:00</td>\n",
       "      <td>1996-02-07T00:00:00</td>\n",
       "      <td>1996-02-03T00:00:00</td>\n",
       "      <td>DELIVER IN PERSON</td>\n",
       "      <td>MAIL</td>\n",
       "      <td>rouches. special</td>\n",
       "    </tr>\n",
       "    <tr>\n",
       "      <th>6</th>\n",
       "      <td>2</td>\n",
       "      <td>1061698</td>\n",
       "      <td>11719</td>\n",
       "      <td>1</td>\n",
       "      <td>38.0</td>\n",
       "      <td>63066.32</td>\n",
       "      <td>0.00</td>\n",
       "      <td>0.05</td>\n",
       "      <td>N</td>\n",
       "      <td>O</td>\n",
       "      <td>1997-01-28T00:00:00</td>\n",
       "      <td>1997-01-14T00:00:00</td>\n",
       "      <td>1997-02-02T00:00:00</td>\n",
       "      <td>TAKE BACK RETURN</td>\n",
       "      <td>RAIL</td>\n",
       "      <td>re. enticingly regular instruct</td>\n",
       "    </tr>\n",
       "    <tr>\n",
       "      <th>7</th>\n",
       "      <td>3</td>\n",
       "      <td>42970</td>\n",
       "      <td>17971</td>\n",
       "      <td>1</td>\n",
       "      <td>45.0</td>\n",
       "      <td>86083.65</td>\n",
       "      <td>0.06</td>\n",
       "      <td>0.00</td>\n",
       "      <td>R</td>\n",
       "      <td>F</td>\n",
       "      <td>1994-02-02T00:00:00</td>\n",
       "      <td>1994-01-04T00:00:00</td>\n",
       "      <td>1994-02-23T00:00:00</td>\n",
       "      <td>NONE</td>\n",
       "      <td>AIR</td>\n",
       "      <td>s cajole above the pinto beans. iro</td>\n",
       "    </tr>\n",
       "    <tr>\n",
       "      <th>8</th>\n",
       "      <td>3</td>\n",
       "      <td>190355</td>\n",
       "      <td>65359</td>\n",
       "      <td>2</td>\n",
       "      <td>49.0</td>\n",
       "      <td>70822.15</td>\n",
       "      <td>0.10</td>\n",
       "      <td>0.00</td>\n",
       "      <td>R</td>\n",
       "      <td>F</td>\n",
       "      <td>1993-11-09T00:00:00</td>\n",
       "      <td>1993-12-20T00:00:00</td>\n",
       "      <td>1993-11-24T00:00:00</td>\n",
       "      <td>TAKE BACK RETURN</td>\n",
       "      <td>RAIL</td>\n",
       "      <td>ecial pinto beans. sly</td>\n",
       "    </tr>\n",
       "    <tr>\n",
       "      <th>9</th>\n",
       "      <td>3</td>\n",
       "      <td>1284483</td>\n",
       "      <td>34508</td>\n",
       "      <td>3</td>\n",
       "      <td>27.0</td>\n",
       "      <td>39620.34</td>\n",
       "      <td>0.06</td>\n",
       "      <td>0.07</td>\n",
       "      <td>A</td>\n",
       "      <td>F</td>\n",
       "      <td>1994-01-16T00:00:00</td>\n",
       "      <td>1993-11-22T00:00:00</td>\n",
       "      <td>1994-01-23T00:00:00</td>\n",
       "      <td>DELIVER IN PERSON</td>\n",
       "      <td>SHIP</td>\n",
       "      <td>e carefully fina</td>\n",
       "    </tr>\n",
       "  </tbody>\n",
       "</table>\n",
       "</div>"
      ],
      "text/plain": [
       "   l_orderkey  l_partkey  l_suppkey  l_linenumber  l_quantity  \\\n",
       "0           1    1551894      76910             1        17.0   \n",
       "1           1     673091      73092             2        36.0   \n",
       "2           1     636998      36999             3         8.0   \n",
       "3           1      21315      46316             4        28.0   \n",
       "4           1     240267      15274             5        24.0   \n",
       "5           1     156345       6348             6        32.0   \n",
       "6           2    1061698      11719             1        38.0   \n",
       "7           3      42970      17971             1        45.0   \n",
       "8           3     190355      65359             2        49.0   \n",
       "9           3    1284483      34508             3        27.0   \n",
       "\n",
       "   l_extendedprice  l_discount  l_tax l_returnflag l_linestatus  \\\n",
       "0         33078.94        0.04   0.02            N            O   \n",
       "1         38306.16        0.09   0.06            N            O   \n",
       "2         15479.68        0.10   0.02            N            O   \n",
       "3         34616.68        0.09   0.06            N            O   \n",
       "4         28974.00        0.10   0.04            N            O   \n",
       "5         44842.88        0.07   0.02            N            O   \n",
       "6         63066.32        0.00   0.05            N            O   \n",
       "7         86083.65        0.06   0.00            R            F   \n",
       "8         70822.15        0.10   0.00            R            F   \n",
       "9         39620.34        0.06   0.07            A            F   \n",
       "\n",
       "            l_shipdate         l_commitdate        l_receiptdate  \\\n",
       "0  1996-03-13T00:00:00  1996-02-12T00:00:00  1996-03-22T00:00:00   \n",
       "1  1996-04-12T00:00:00  1996-02-28T00:00:00  1996-04-20T00:00:00   \n",
       "2  1996-01-29T00:00:00  1996-03-05T00:00:00  1996-01-31T00:00:00   \n",
       "3  1996-04-21T00:00:00  1996-03-30T00:00:00  1996-05-16T00:00:00   \n",
       "4  1996-03-30T00:00:00  1996-03-14T00:00:00  1996-04-01T00:00:00   \n",
       "5  1996-01-30T00:00:00  1996-02-07T00:00:00  1996-02-03T00:00:00   \n",
       "6  1997-01-28T00:00:00  1997-01-14T00:00:00  1997-02-02T00:00:00   \n",
       "7  1994-02-02T00:00:00  1994-01-04T00:00:00  1994-02-23T00:00:00   \n",
       "8  1993-11-09T00:00:00  1993-12-20T00:00:00  1993-11-24T00:00:00   \n",
       "9  1994-01-16T00:00:00  1993-11-22T00:00:00  1994-01-23T00:00:00   \n",
       "\n",
       "      l_shipinstruct l_shipmode                            l_comment  \n",
       "0  DELIVER IN PERSON      TRUCK              to beans x-ray carefull  \n",
       "1   TAKE BACK RETURN       MAIL    according to the final foxes. qui  \n",
       "2   TAKE BACK RETURN    REG AIR        ourts cajole above the furiou  \n",
       "3               NONE        AIR              s cajole busily above t  \n",
       "4               NONE        FOB              the regular, regular pa  \n",
       "5  DELIVER IN PERSON       MAIL                    rouches. special   \n",
       "6   TAKE BACK RETURN       RAIL      re. enticingly regular instruct  \n",
       "7               NONE        AIR  s cajole above the pinto beans. iro  \n",
       "8   TAKE BACK RETURN       RAIL               ecial pinto beans. sly  \n",
       "9  DELIVER IN PERSON       SHIP                     e carefully fina  "
      ]
     },
     "execution_count": 40,
     "metadata": {},
     "output_type": "execute_result"
    }
   ],
   "source": [
    "# Convert dictionary to Arrow and query\n",
    "# Better than the previous option but somewhere in the serialization process in the client side, dates where formatted in a way that Arrow cannot parse\n",
    "t1 = time.time()\n",
    "json_arrow = pa.Table.from_pydict(json_data)\n",
    "t2 = time.time()\n",
    "print(f\"Time taken to convert JSON to Arrow: {t2 - t1:.2f} seconds\")\n",
    "t1 = time.time()\n",
    "with duckdb.connect() as con:\n",
    "    r = con.execute(\"SELECT * FROM json_arrow LIMIT 10\")\n",
    "    df = r.fetch_df()\n",
    "t2 = time.time()\n",
    "print(f\"Time taken to execute query: {t2 - t1:.2f} seconds\")\n",
    "df"
   ]
  },
  {
   "cell_type": "code",
   "execution_count": null,
   "id": "4ce51c4c",
   "metadata": {},
   "outputs": [
    {
     "name": "stdout",
     "output_type": "stream",
     "text": [
      "Time taken to convert JSON to pandas: 2.78 seconds\n",
      "Time taken to execute query: 0.04 seconds\n"
     ]
    },
    {
     "data": {
      "text/html": [
       "<div>\n",
       "<style scoped>\n",
       "    .dataframe tbody tr th:only-of-type {\n",
       "        vertical-align: middle;\n",
       "    }\n",
       "\n",
       "    .dataframe tbody tr th {\n",
       "        vertical-align: top;\n",
       "    }\n",
       "\n",
       "    .dataframe thead th {\n",
       "        text-align: right;\n",
       "    }\n",
       "</style>\n",
       "<table border=\"1\" class=\"dataframe\">\n",
       "  <thead>\n",
       "    <tr style=\"text-align: right;\">\n",
       "      <th></th>\n",
       "      <th>l_orderkey</th>\n",
       "      <th>l_partkey</th>\n",
       "      <th>l_suppkey</th>\n",
       "      <th>l_linenumber</th>\n",
       "      <th>l_quantity</th>\n",
       "      <th>l_extendedprice</th>\n",
       "      <th>l_discount</th>\n",
       "      <th>l_tax</th>\n",
       "      <th>l_returnflag</th>\n",
       "      <th>l_linestatus</th>\n",
       "      <th>l_shipdate</th>\n",
       "      <th>l_commitdate</th>\n",
       "      <th>l_receiptdate</th>\n",
       "      <th>l_shipinstruct</th>\n",
       "      <th>l_shipmode</th>\n",
       "      <th>l_comment</th>\n",
       "    </tr>\n",
       "  </thead>\n",
       "  <tbody>\n",
       "    <tr>\n",
       "      <th>0</th>\n",
       "      <td>1</td>\n",
       "      <td>1551894</td>\n",
       "      <td>76910</td>\n",
       "      <td>1</td>\n",
       "      <td>17.0</td>\n",
       "      <td>33078.94</td>\n",
       "      <td>0.04</td>\n",
       "      <td>0.02</td>\n",
       "      <td>N</td>\n",
       "      <td>O</td>\n",
       "      <td>1996-03-13T00:00:00</td>\n",
       "      <td>1996-02-12T00:00:00</td>\n",
       "      <td>1996-03-22T00:00:00</td>\n",
       "      <td>DELIVER IN PERSON</td>\n",
       "      <td>TRUCK</td>\n",
       "      <td>to beans x-ray carefull</td>\n",
       "    </tr>\n",
       "    <tr>\n",
       "      <th>1</th>\n",
       "      <td>1</td>\n",
       "      <td>673091</td>\n",
       "      <td>73092</td>\n",
       "      <td>2</td>\n",
       "      <td>36.0</td>\n",
       "      <td>38306.16</td>\n",
       "      <td>0.09</td>\n",
       "      <td>0.06</td>\n",
       "      <td>N</td>\n",
       "      <td>O</td>\n",
       "      <td>1996-04-12T00:00:00</td>\n",
       "      <td>1996-02-28T00:00:00</td>\n",
       "      <td>1996-04-20T00:00:00</td>\n",
       "      <td>TAKE BACK RETURN</td>\n",
       "      <td>MAIL</td>\n",
       "      <td>according to the final foxes. qui</td>\n",
       "    </tr>\n",
       "    <tr>\n",
       "      <th>2</th>\n",
       "      <td>1</td>\n",
       "      <td>636998</td>\n",
       "      <td>36999</td>\n",
       "      <td>3</td>\n",
       "      <td>8.0</td>\n",
       "      <td>15479.68</td>\n",
       "      <td>0.10</td>\n",
       "      <td>0.02</td>\n",
       "      <td>N</td>\n",
       "      <td>O</td>\n",
       "      <td>1996-01-29T00:00:00</td>\n",
       "      <td>1996-03-05T00:00:00</td>\n",
       "      <td>1996-01-31T00:00:00</td>\n",
       "      <td>TAKE BACK RETURN</td>\n",
       "      <td>REG AIR</td>\n",
       "      <td>ourts cajole above the furiou</td>\n",
       "    </tr>\n",
       "    <tr>\n",
       "      <th>3</th>\n",
       "      <td>1</td>\n",
       "      <td>21315</td>\n",
       "      <td>46316</td>\n",
       "      <td>4</td>\n",
       "      <td>28.0</td>\n",
       "      <td>34616.68</td>\n",
       "      <td>0.09</td>\n",
       "      <td>0.06</td>\n",
       "      <td>N</td>\n",
       "      <td>O</td>\n",
       "      <td>1996-04-21T00:00:00</td>\n",
       "      <td>1996-03-30T00:00:00</td>\n",
       "      <td>1996-05-16T00:00:00</td>\n",
       "      <td>NONE</td>\n",
       "      <td>AIR</td>\n",
       "      <td>s cajole busily above t</td>\n",
       "    </tr>\n",
       "    <tr>\n",
       "      <th>4</th>\n",
       "      <td>1</td>\n",
       "      <td>240267</td>\n",
       "      <td>15274</td>\n",
       "      <td>5</td>\n",
       "      <td>24.0</td>\n",
       "      <td>28974.00</td>\n",
       "      <td>0.10</td>\n",
       "      <td>0.04</td>\n",
       "      <td>N</td>\n",
       "      <td>O</td>\n",
       "      <td>1996-03-30T00:00:00</td>\n",
       "      <td>1996-03-14T00:00:00</td>\n",
       "      <td>1996-04-01T00:00:00</td>\n",
       "      <td>NONE</td>\n",
       "      <td>FOB</td>\n",
       "      <td>the regular, regular pa</td>\n",
       "    </tr>\n",
       "    <tr>\n",
       "      <th>5</th>\n",
       "      <td>1</td>\n",
       "      <td>156345</td>\n",
       "      <td>6348</td>\n",
       "      <td>6</td>\n",
       "      <td>32.0</td>\n",
       "      <td>44842.88</td>\n",
       "      <td>0.07</td>\n",
       "      <td>0.02</td>\n",
       "      <td>N</td>\n",
       "      <td>O</td>\n",
       "      <td>1996-01-30T00:00:00</td>\n",
       "      <td>1996-02-07T00:00:00</td>\n",
       "      <td>1996-02-03T00:00:00</td>\n",
       "      <td>DELIVER IN PERSON</td>\n",
       "      <td>MAIL</td>\n",
       "      <td>rouches. special</td>\n",
       "    </tr>\n",
       "    <tr>\n",
       "      <th>6</th>\n",
       "      <td>2</td>\n",
       "      <td>1061698</td>\n",
       "      <td>11719</td>\n",
       "      <td>1</td>\n",
       "      <td>38.0</td>\n",
       "      <td>63066.32</td>\n",
       "      <td>0.00</td>\n",
       "      <td>0.05</td>\n",
       "      <td>N</td>\n",
       "      <td>O</td>\n",
       "      <td>1997-01-28T00:00:00</td>\n",
       "      <td>1997-01-14T00:00:00</td>\n",
       "      <td>1997-02-02T00:00:00</td>\n",
       "      <td>TAKE BACK RETURN</td>\n",
       "      <td>RAIL</td>\n",
       "      <td>re. enticingly regular instruct</td>\n",
       "    </tr>\n",
       "    <tr>\n",
       "      <th>7</th>\n",
       "      <td>3</td>\n",
       "      <td>42970</td>\n",
       "      <td>17971</td>\n",
       "      <td>1</td>\n",
       "      <td>45.0</td>\n",
       "      <td>86083.65</td>\n",
       "      <td>0.06</td>\n",
       "      <td>0.00</td>\n",
       "      <td>R</td>\n",
       "      <td>F</td>\n",
       "      <td>1994-02-02T00:00:00</td>\n",
       "      <td>1994-01-04T00:00:00</td>\n",
       "      <td>1994-02-23T00:00:00</td>\n",
       "      <td>NONE</td>\n",
       "      <td>AIR</td>\n",
       "      <td>s cajole above the pinto beans. iro</td>\n",
       "    </tr>\n",
       "    <tr>\n",
       "      <th>8</th>\n",
       "      <td>3</td>\n",
       "      <td>190355</td>\n",
       "      <td>65359</td>\n",
       "      <td>2</td>\n",
       "      <td>49.0</td>\n",
       "      <td>70822.15</td>\n",
       "      <td>0.10</td>\n",
       "      <td>0.00</td>\n",
       "      <td>R</td>\n",
       "      <td>F</td>\n",
       "      <td>1993-11-09T00:00:00</td>\n",
       "      <td>1993-12-20T00:00:00</td>\n",
       "      <td>1993-11-24T00:00:00</td>\n",
       "      <td>TAKE BACK RETURN</td>\n",
       "      <td>RAIL</td>\n",
       "      <td>ecial pinto beans. sly</td>\n",
       "    </tr>\n",
       "    <tr>\n",
       "      <th>9</th>\n",
       "      <td>3</td>\n",
       "      <td>1284483</td>\n",
       "      <td>34508</td>\n",
       "      <td>3</td>\n",
       "      <td>27.0</td>\n",
       "      <td>39620.34</td>\n",
       "      <td>0.06</td>\n",
       "      <td>0.07</td>\n",
       "      <td>A</td>\n",
       "      <td>F</td>\n",
       "      <td>1994-01-16T00:00:00</td>\n",
       "      <td>1993-11-22T00:00:00</td>\n",
       "      <td>1994-01-23T00:00:00</td>\n",
       "      <td>DELIVER IN PERSON</td>\n",
       "      <td>SHIP</td>\n",
       "      <td>e carefully fina</td>\n",
       "    </tr>\n",
       "  </tbody>\n",
       "</table>\n",
       "</div>"
      ],
      "text/plain": [
       "   l_orderkey  l_partkey  l_suppkey  l_linenumber  l_quantity  \\\n",
       "0           1    1551894      76910             1        17.0   \n",
       "1           1     673091      73092             2        36.0   \n",
       "2           1     636998      36999             3         8.0   \n",
       "3           1      21315      46316             4        28.0   \n",
       "4           1     240267      15274             5        24.0   \n",
       "5           1     156345       6348             6        32.0   \n",
       "6           2    1061698      11719             1        38.0   \n",
       "7           3      42970      17971             1        45.0   \n",
       "8           3     190355      65359             2        49.0   \n",
       "9           3    1284483      34508             3        27.0   \n",
       "\n",
       "   l_extendedprice  l_discount  l_tax l_returnflag l_linestatus  \\\n",
       "0         33078.94        0.04   0.02            N            O   \n",
       "1         38306.16        0.09   0.06            N            O   \n",
       "2         15479.68        0.10   0.02            N            O   \n",
       "3         34616.68        0.09   0.06            N            O   \n",
       "4         28974.00        0.10   0.04            N            O   \n",
       "5         44842.88        0.07   0.02            N            O   \n",
       "6         63066.32        0.00   0.05            N            O   \n",
       "7         86083.65        0.06   0.00            R            F   \n",
       "8         70822.15        0.10   0.00            R            F   \n",
       "9         39620.34        0.06   0.07            A            F   \n",
       "\n",
       "            l_shipdate         l_commitdate        l_receiptdate  \\\n",
       "0  1996-03-13T00:00:00  1996-02-12T00:00:00  1996-03-22T00:00:00   \n",
       "1  1996-04-12T00:00:00  1996-02-28T00:00:00  1996-04-20T00:00:00   \n",
       "2  1996-01-29T00:00:00  1996-03-05T00:00:00  1996-01-31T00:00:00   \n",
       "3  1996-04-21T00:00:00  1996-03-30T00:00:00  1996-05-16T00:00:00   \n",
       "4  1996-03-30T00:00:00  1996-03-14T00:00:00  1996-04-01T00:00:00   \n",
       "5  1996-01-30T00:00:00  1996-02-07T00:00:00  1996-02-03T00:00:00   \n",
       "6  1997-01-28T00:00:00  1997-01-14T00:00:00  1997-02-02T00:00:00   \n",
       "7  1994-02-02T00:00:00  1994-01-04T00:00:00  1994-02-23T00:00:00   \n",
       "8  1993-11-09T00:00:00  1993-12-20T00:00:00  1993-11-24T00:00:00   \n",
       "9  1994-01-16T00:00:00  1993-11-22T00:00:00  1994-01-23T00:00:00   \n",
       "\n",
       "      l_shipinstruct l_shipmode                            l_comment  \n",
       "0  DELIVER IN PERSON      TRUCK              to beans x-ray carefull  \n",
       "1   TAKE BACK RETURN       MAIL    according to the final foxes. qui  \n",
       "2   TAKE BACK RETURN    REG AIR        ourts cajole above the furiou  \n",
       "3               NONE        AIR              s cajole busily above t  \n",
       "4               NONE        FOB              the regular, regular pa  \n",
       "5  DELIVER IN PERSON       MAIL                    rouches. special   \n",
       "6   TAKE BACK RETURN       RAIL      re. enticingly regular instruct  \n",
       "7               NONE        AIR  s cajole above the pinto beans. iro  \n",
       "8   TAKE BACK RETURN       RAIL               ecial pinto beans. sly  \n",
       "9  DELIVER IN PERSON       SHIP                     e carefully fina  "
      ]
     },
     "execution_count": 42,
     "metadata": {},
     "output_type": "execute_result"
    }
   ],
   "source": [
    "# Convert dictionary to pandas and query\n",
    "# For sure less efficient than arrow but also works. Definitely better than writing to disk and then querying the JSON file\n",
    "t1 = time.time()\n",
    "json_df = pd.DataFrame(json_data)\n",
    "t2 = time.time()\n",
    "print(f\"Time taken to convert JSON to pandas: {t2 - t1:.2f} seconds\")\n",
    "t1 = time.time()\n",
    "with duckdb.connect() as con:\n",
    "    r = con.execute(\"SELECT * FROM json_df LIMIT 10\")\n",
    "    df = r.fetch_df()\n",
    "t2 = time.time()\n",
    "print(f\"Time taken to execute query: {t2 - t1:.2f} seconds\")\n",
    "df"
   ]
  },
  {
   "cell_type": "code",
   "execution_count": 33,
   "id": "3b1f1b39",
   "metadata": {},
   "outputs": [
    {
     "name": "stdout",
     "output_type": "stream",
     "text": [
      "Size of JSON dict data: 135.18 MB\n",
      "Size of Arrow data: 1727.84 MB\n"
     ]
    }
   ],
   "source": [
    "from sys import getsizeof\n",
    "size_json = getsizeof(json_data)\n",
    "for column in json_data.values():\n",
    "    size_json += getsizeof(column)\n",
    "print(f\"Size of JSON dict data: {size_json / 1_000_000:.2f} MB\")\n",
    "size_arrow = arrow_table.nbytes\n",
    "print(f\"Size of Arrow data: {size_arrow / 1_000_000:.2f} MB\")"
   ]
  }
 ],
 "metadata": {
  "kernelspec": {
   "display_name": "python",
   "language": "python",
   "name": "python3"
  },
  "language_info": {
   "codemirror_mode": {
    "name": "ipython",
    "version": 3
   },
   "file_extension": ".py",
   "mimetype": "text/x-python",
   "name": "python",
   "nbconvert_exporter": "python",
   "pygments_lexer": "ipython3",
   "version": "3.12.9"
  }
 },
 "nbformat": 4,
 "nbformat_minor": 5
}
